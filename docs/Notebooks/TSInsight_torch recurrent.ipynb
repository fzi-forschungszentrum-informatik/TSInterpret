{
 "cells": [
  {
   "cell_type": "code",
   "execution_count": 1,
   "source": [
    "import sklearn\n",
    "import pickle\n",
    "import numpy as np \n",
    "import torch \n",
    "from ClassificationModels.CNN_T import ResNetBaseline, get_all_preds, fit, UCRDataset\n",
    "from ClassificationModels.LSTM import LSTMClassifier\n",
    "import matplotlib.pyplot as plt\n",
    "import seaborn as sns\n",
    "from sklearn.metrics import confusion_matrix, accuracy_score, classification_report\n",
    "import pandas as pd\n",
    "from tslearn.datasets import UCR_UEA_datasets\n",
    "import os "
   ],
   "outputs": [],
   "metadata": {}
  },
  {
   "cell_type": "markdown",
   "source": [
    "# Parameters"
   ],
   "metadata": {}
  },
  {
   "cell_type": "code",
   "execution_count": 2,
   "source": [
    "#TODO Cope with different dimensionalities btw autoencoder and model ! \n",
    "dataset='ElectricDevices'"
   ],
   "outputs": [],
   "metadata": {}
  },
  {
   "cell_type": "markdown",
   "source": [
    "# Load Data"
   ],
   "metadata": {}
  },
  {
   "cell_type": "code",
   "execution_count": 3,
   "source": [
    "\n",
    "train_x,train_y, test_x, test_y=UCR_UEA_datasets().load_dataset(dataset)"
   ],
   "outputs": [],
   "metadata": {}
  },
  {
   "cell_type": "code",
   "execution_count": 4,
   "source": [
    "enc1=pickle.load(open(f'../../ClassificationModels/models/{dataset}/OneHotEncoder.pkl','rb'))\n",
    "train_y=enc1.transform(train_y.reshape(-1,1))\n",
    "test_y=enc1.transform(test_y.reshape(-1,1))"
   ],
   "outputs": [
    {
     "output_type": "stream",
     "name": "stderr",
     "text": [
      "/home/jacqueline/.local/share/virtualenvs/TSInterpret-NXJYnQDU/lib/python3.7/site-packages/sklearn/base.py:338: UserWarning: Trying to unpickle estimator OneHotEncoder from version 0.24.2 when using version 1.0.2. This might lead to breaking code or invalid results. Use at your own risk. For more info please refer to:\n",
      "https://scikit-learn.org/stable/modules/model_persistence.html#security-maintainability-limitations\n",
      "  UserWarning,\n"
     ]
    }
   ],
   "metadata": {}
  },
  {
   "cell_type": "code",
   "execution_count": 5,
   "source": [
    "full_x= np.vstack([train_x, test_x])\n",
    "full_y= np.vstack([train_y, test_y])"
   ],
   "outputs": [],
   "metadata": {}
  },
  {
   "cell_type": "code",
   "execution_count": 6,
   "source": [
    "# New Train/ Test Split with 0.33\n",
    "from sklearn.model_selection import train_test_split\n",
    "X_train, X_test, y_train, y_test = train_test_split( full_x, full_y, test_size=0.33, random_state=42)\n",
    "X_train, X_val, y_train, y_val = train_test_split( X_train, y_train, test_size=0.33, random_state=42)"
   ],
   "outputs": [],
   "metadata": {}
  },
  {
   "cell_type": "markdown",
   "source": [
    "# Model Training"
   ],
   "metadata": {}
  },
  {
   "cell_type": "code",
   "execution_count": 7,
   "source": [
    "#TODO Load Data and make this new\n",
    "n_pred_classes =train_y.shape[1]\n",
    "train_dataset = UCRDataset(X_train.astype(np.float64),y_train.astype(np.int64))\n",
    "test_dataset = UCRDataset(X_test.astype(np.float64),y_test.astype(np.int64))\n",
    "val_dataset = UCRDataset(X_val.astype(np.float64),y_val.astype(np.int64))\n",
    "train_loader = torch.utils.data.DataLoader(train_dataset,batch_size=256,shuffle=True)\n",
    "test_loader = torch.utils.data.DataLoader(test_dataset,batch_size=256,shuffle=False)\n",
    "val_loader = torch.utils.data.DataLoader(val_dataset,batch_size=1,shuffle=False)\n",
    "input_dim = 1   \n",
    "hidden_dim = 256\n",
    "layer_dim = 1\n",
    "output_dim =n_pred_classes\n",
    "model = LSTMClassifier(input_dim, hidden_dim, layer_dim, output_dim)\n",
    "model.load_state_dict(torch.load(f'../../ClassificationModels/models/{dataset}/LSTM'))\n",
    "model.eval()"
   ],
   "outputs": [
    {
     "output_type": "execute_result",
     "data": {
      "text/plain": [
       "LSTMClassifier(\n",
       "  (rnn): LSTM(1, 256, batch_first=True)\n",
       "  (fc): Linear(in_features=256, out_features=7, bias=True)\n",
       ")"
      ]
     },
     "metadata": {},
     "execution_count": 7
    }
   ],
   "metadata": {}
  },
  {
   "cell_type": "markdown",
   "source": [
    "# Explanation Algo"
   ],
   "metadata": {}
  },
  {
   "cell_type": "code",
   "execution_count": 8,
   "source": [
    "#from TSInterpret.InterpretabilityModels.TSInsight.TSInsightPYT import TSInsightPYT\n",
    "#exp_model=TSInsightPYT(model,(train_x.shape[-2],train_x.shape[-1]),(train_x,train_y), (test_x,test_y),autoencoder='cnn' )"
   ],
   "outputs": [],
   "metadata": {}
  },
  {
   "cell_type": "code",
   "execution_count": 9,
   "source": [
    "# save model \n",
    "#torch.save(model.state_dict(), f'../../ClassificationModels/models/{dataset}/TSInsightAutoencoder_LSTM_Class')"
   ],
   "outputs": [],
   "metadata": {}
  },
  {
   "cell_type": "code",
   "execution_count": 10,
   "source": [
    "from TSInterpret.InterpretabilityModels.TSInsight.PYT_AE.CNN_PYT import ConvAutoencoder\n",
    "from TSInterpret.InterpretabilityModels.TSInsight.TSInsightPYT import TSInsightPYT\n",
    "#TODO make model decision according to val !\n",
    "#autoencoder= ConvAutoencoder(1)\n",
    "#autoencoder.load_state_dict(torch.load(f'../../ClassificationModels/models/{dataset}/TSInsightAutoencoder_LSTM_Class'))\n",
    "exp_model=TSInsightPYT(model,(train_x.shape[-2],train_x.shape[-1]),(train_x,train_y), (test_x,test_y), autoencoder='cnn')"
   ],
   "outputs": [
    {
     "output_type": "stream",
     "name": "stderr",
     "text": [
      "2022-08-02 16:25:19.059594: W tensorflow/stream_executor/platform/default/dso_loader.cc:64] Could not load dynamic library 'libcudart.so.11.0'; dlerror: libcudart.so.11.0: cannot open shared object file: No such file or directory\n",
      "2022-08-02 16:25:19.059611: I tensorflow/stream_executor/cuda/cudart_stub.cc:29] Ignore above cudart dlerror if you do not have a GPU set up on your machine.\n"
     ]
    },
    {
     "output_type": "stream",
     "name": "stdout",
     "text": [
      "<class 'str'>\n",
      "cnn ae flag True\n",
      "cnn_model False\n",
      "INFO - Provided Datasets are Tuples. Create a Default DataLoader.\n",
      "Epoch: 0, Train loss: 0.013, Validation loss: 0.118\n",
      "Epoch: 1, Train loss: 0.013, Validation loss: 0.106\n",
      "Epoch: 2, Train loss: 0.004, Validation loss: 0.099\n",
      "Epoch: 3, Train loss: 0.016, Validation loss: 0.12\n",
      "Epoch: 4, Train loss: 0.002, Validation loss: 0.096\n",
      "Epoch: 5, Train loss: 0.009, Validation loss: 0.096\n",
      "Epoch: 6, Train loss: 0.016, Validation loss: 0.102\n",
      "Epoch: 7, Train loss: 0.002, Validation loss: 0.103\n",
      "Epoch: 8, Train loss: 0.001, Validation loss: 0.091\n",
      "Epoch: 9, Train loss: 0.002, Validation loss: 0.09\n",
      "Epoch: 10, Train loss: 0.18, Validation loss: 0.095\n",
      "Epoch: 11, Train loss: 0.016, Validation loss: 0.096\n",
      "Epoch: 12, Train loss: 0.005, Validation loss: 0.089\n",
      "Epoch: 13, Train loss: 0.003, Validation loss: 0.088\n",
      "Epoch: 14, Train loss: 0.012, Validation loss: 0.097\n",
      "Epoch: 15, Train loss: 0.005, Validation loss: 0.083\n",
      "Epoch: 16, Train loss: 0.01, Validation loss: 0.115\n",
      "Epoch: 17, Train loss: 0.003, Validation loss: 0.093\n",
      "Epoch: 18, Train loss: 0.009, Validation loss: 0.09\n",
      "Epoch: 19, Train loss: 0.007, Validation loss: 0.093\n",
      "Epoch: 20, Train loss: 0.008, Validation loss: 0.096\n",
      "Epoch: 21, Train loss: 0.0, Validation loss: 0.081\n",
      "Epoch: 22, Train loss: 0.018, Validation loss: 0.086\n",
      "Epoch: 23, Train loss: 0.006, Validation loss: 0.088\n",
      "Epoch: 24, Train loss: 0.007, Validation loss: 0.087\n",
      "Epoch: 25, Train loss: 0.002, Validation loss: 0.081\n",
      "Epoch: 26, Train loss: 0.006, Validation loss: 0.085\n",
      "Epoch: 27, Train loss: 0.001, Validation loss: 0.084\n",
      "Epoch: 28, Train loss: 0.003, Validation loss: 0.089\n",
      "Epoch: 29, Train loss: 0.001, Validation loss: 0.084\n",
      "Epoch: 30, Train loss: 0.006, Validation loss: 0.089\n",
      "Epoch: 31, Train loss: 0.001, Validation loss: 0.084\n",
      "Epoch: 32, Train loss: 0.005, Validation loss: 0.091\n",
      "Epoch: 33, Train loss: 0.003, Validation loss: 0.089\n",
      "Epoch: 34, Train loss: 0.004, Validation loss: 0.087\n",
      "Epoch: 35, Train loss: 0.021, Validation loss: 0.087\n",
      "Epoch: 36, Train loss: 0.006, Validation loss: 0.092\n",
      "Epoch: 37, Train loss: 0.008, Validation loss: 0.085\n",
      "Epoch: 38, Train loss: 0.001, Validation loss: 0.085\n",
      "Epoch: 39, Train loss: 0.002, Validation loss: 0.08\n",
      "Epoch: 40, Train loss: 0.002, Validation loss: 0.086\n",
      "Epoch: 41, Train loss: 0.019, Validation loss: 0.089\n",
      "Epoch: 42, Train loss: 0.004, Validation loss: 0.079\n",
      "Epoch: 43, Train loss: 0.001, Validation loss: 0.086\n",
      "Epoch: 44, Train loss: 0.002, Validation loss: 0.083\n",
      "Epoch: 45, Train loss: 0.001, Validation loss: 0.082\n",
      "Epoch: 46, Train loss: 0.004, Validation loss: 0.088\n",
      "Epoch: 47, Train loss: 0.002, Validation loss: 0.086\n",
      "Epoch: 48, Train loss: 0.005, Validation loss: 0.088\n",
      "Epoch: 49, Train loss: 0.002, Validation loss: 0.082\n",
      "Epoch: 50, Train loss: 0.011, Validation loss: 0.098\n",
      "Epoch: 51, Train loss: 0.003, Validation loss: 0.086\n",
      "Epoch: 52, Train loss: 0.009, Validation loss: 0.093\n",
      "Epoch: 53, Train loss: 0.003, Validation loss: 0.083\n",
      "Epoch: 54, Train loss: 0.004, Validation loss: 0.089\n",
      "Epoch: 55, Train loss: 0.005, Validation loss: 0.084\n",
      "Epoch: 56, Train loss: 0.004, Validation loss: 0.11\n",
      "Epoch: 57, Train loss: 0.468, Validation loss: 0.08\n",
      "Epoch: 58, Train loss: 0.004, Validation loss: 0.102\n",
      "Epoch: 59, Train loss: 0.002, Validation loss: 0.08\n",
      "Epoch: 60, Train loss: 0.004, Validation loss: 0.091\n",
      "Epoch: 61, Train loss: 0.004, Validation loss: 0.087\n",
      "Epoch: 62, Train loss: 0.007, Validation loss: 0.089\n",
      "Epoch: 0, Fine Tune Loss: 8.09, consits of 0.565669059753418, 0.014457129873335361, 0.0036810627207159996, 7.505931854248047\n",
      "Epoch: 0, Fine Validation Loss: 16.373, consits of 0.9865335822105408, 7.879101276397705, 0.0018849758198484778, 7.505931854248047\n",
      "Epoch: 1, Fine Tune Loss: 7.052, consits of 0.03448109328746796, 0.01217979472130537, 0.003890726715326309, 7.001708507537842\n",
      "Epoch: 1, Fine Validation Loss: 15.211, consits of 0.15519100427627563, 8.052169799804688, 0.0016543109668418765, 7.001708507537842\n",
      "Epoch: 2, Fine Tune Loss: 6.681, consits of 0.00018451895448379219, 0.026090560480952263, 0.006063150241971016, 6.6483612060546875\n",
      "Epoch: 2, Fine Validation Loss: 15.557, consits of 0.8382940292358398, 8.068775177001953, 0.0017736800946295261, 6.6483612060546875\n",
      "Epoch: 3, Fine Tune Loss: 6.384, consits of 8.892617915989831e-05, 0.04571767523884773, 0.006916467100381851, 6.33125638961792\n",
      "Epoch: 3, Fine Validation Loss: 14.686, consits of 0.4629472494125366, 7.889476299285889, 0.00194786605425179, 6.33125638961792\n",
      "Epoch: 4, Fine Tune Loss: 6.161, consits of 6.318072337307967e-06, 0.039712220430374146, 0.004751958884298801, 6.1160430908203125\n",
      "Epoch: 4, Fine Validation Loss: 14.307, consits of 0.05711985006928444, 8.131914138793945, 0.0019197259098291397, 6.1160430908203125\n",
      "Epoch: 5, Fine Tune Loss: 6.043, consits of 0.0005408254801295698, 0.062245115637779236, 0.007956596091389656, 5.972522258758545\n",
      "Epoch: 5, Fine Validation Loss: 14.503, consits of 0.6751673221588135, 7.8534417152404785, 0.0018457482801750302, 5.972522258758545\n",
      "Epoch: 6, Fine Tune Loss: 5.851, consits of 0.0056761037558317184, 0.023692719638347626, 0.003711877390742302, 5.8175272941589355\n",
      "Epoch: 6, Fine Validation Loss: 14.698, consits of 0.9505510330200195, 7.927943706512451, 0.0018552076071500778, 5.8175272941589355\n",
      "Epoch: 7, Fine Tune Loss: 5.745, consits of 0.020603327080607414, 0.04064163193106651, 0.005369317717850208, 5.678313255310059\n",
      "Epoch: 7, Fine Validation Loss: 14.833, consits of 1.3560909032821655, 7.796574115753174, 0.001863660174421966, 5.678313255310059\n",
      "Epoch: 8, Fine Tune Loss: 5.644, consits of 0.07517288625240326, 0.025234684348106384, 0.005560038611292839, 5.537730693817139\n",
      "Epoch: 8, Fine Validation Loss: 14.357, consits of 1.0452077388763428, 7.7726311683654785, 0.0019261596025899053, 5.537730693817139\n",
      "Epoch: 9, Fine Tune Loss: 5.499, consits of 0.0008924792055040598, 0.0814111977815628, 0.005488442722707987, 5.411182403564453\n",
      "Epoch: 9, Fine Validation Loss: 14.172, consits of 0.9122334122657776, 7.846874713897705, 0.0018466514302417636, 5.411182403564453\n",
      "Epoch: 10, Fine Tune Loss: 5.321, consits of 0.0016132686287164688, 0.03168415650725365, 0.008610551245510578, 5.279123306274414\n",
      "Epoch: 10, Fine Validation Loss: 13.427, consits of 0.5372851490974426, 7.60908317565918, 0.0019487409153953195, 5.279123306274414\n",
      "Epoch: 11, Fine Tune Loss: 5.206, consits of 2.1219027985353023e-05, 0.03283645957708359, 0.00351930339820683, 5.169417381286621\n",
      "Epoch: 11, Fine Validation Loss: 13.304, consits of 0.7669694423675537, 7.365670204162598, 0.002002056920900941, 5.169417381286621\n",
      "Epoch: 12, Fine Tune Loss: 5.08, consits of 0.0001728385395836085, 0.011854072101414204, 0.0033708803821355104, 5.064925193786621\n",
      "Epoch: 12, Fine Validation Loss: 13.486, consits of 0.4804877042770386, 7.939138412475586, 0.0018891007639467716, 5.064925193786621\n",
      "Epoch: 13, Fine Tune Loss: 5.022, consits of 0.0005301024066284299, 0.050393711775541306, 0.0059559643268585205, 4.964757919311523\n",
      "Epoch: 13, Fine Validation Loss: 12.954, consits of 0.3875558376312256, 7.599607467651367, 0.0020616098772734404, 4.964757919311523\n",
      "Epoch: 14, Fine Tune Loss: 4.935, consits of 0.0007254829397425056, 0.06053926423192024, 0.004281536675989628, 4.8690619468688965\n",
      "Epoch: 14, Fine Validation Loss: 13.504, consits of 0.7117990851402283, 7.921295166015625, 0.0018835841910913587, 4.8690619468688965\n",
      "Epoch: 15, Fine Tune Loss: 4.908, consits of 0.09920400381088257, 0.028493158519268036, 0.004515946842730045, 4.776196479797363\n",
      "Epoch: 15, Fine Validation Loss: 13.231, consits of 0.4565901458263397, 7.99614143371582, 0.0018161566695198417, 4.776196479797363\n",
      "Epoch: 16, Fine Tune Loss: 4.738, consits of 2.95634672511369e-05, 0.05092566832900047, 0.006301966495811939, 4.680650234222412\n",
      "Epoch: 16, Fine Validation Loss: 13.429, consits of 0.8629570007324219, 7.883097171783447, 0.0019970673602074385, 4.680650234222412\n",
      "Epoch: 17, Fine Tune Loss: 4.674, consits of 0.022325025871396065, 0.054601188749074936, 0.0037686920259147882, 4.593767166137695\n",
      "Epoch: 17, Fine Validation Loss: 12.967, consits of 0.7697463631629944, 7.60180139541626, 0.0018608056707307696, 4.593767166137695\n",
      "Epoch: 18, Fine Tune Loss: 4.561, consits of 0.011492361314594746, 0.03129342943429947, 0.005881249438971281, 4.5119242668151855\n",
      "Epoch: 18, Fine Validation Loss: 13.169, consits of 0.935942530632019, 7.719144821166992, 0.0019369479268789291, 4.5119242668151855\n",
      "Epoch: 19, Fine Tune Loss: 4.506, consits of 0.0007205988513305783, 0.053835730999708176, 0.009142754599452019, 4.4425506591796875\n",
      "Epoch: 19, Fine Validation Loss: 13.269, consits of 0.8179475665092468, 8.00626277923584, 0.0020883583929389715, 4.4425506591796875\n",
      "Epoch: 20, Fine Tune Loss: 4.452, consits of 6.890059739816934e-05, 0.07996845245361328, 0.0044997688382864, 4.367394924163818\n",
      "Epoch: 20, Fine Validation Loss: 13.192, consits of 1.004765510559082, 7.817804336547852, 0.002042485633864999, 4.367394924163818\n",
      "Epoch: 21, Fine Tune Loss: 7.577, consits of 3.2325472831726074, 0.0367421992123127, 0.002049715258181095, 4.305919647216797\n",
      "Epoch: 21, Fine Validation Loss: 12.826, consits of 0.9183617830276489, 7.59960412979126, 0.0020389589481055737, 4.305919647216797\n",
      "Epoch: 22, Fine Tune Loss: 4.425, consits of 0.09559647738933563, 0.07964464277029037, 0.004205114673823118, 4.2455925941467285\n",
      "Epoch: 22, Fine Validation Loss: 13.119, consits of 0.8734332919120789, 7.997946739196777, 0.0019155371701344848, 4.2455925941467285\n",
      "Epoch: 23, Fine Tune Loss: 4.344, consits of 0.11371742933988571, 0.03762536495923996, 0.00340826902538538, 4.189498424530029\n",
      "Epoch: 23, Fine Validation Loss: 12.498, consits of 0.4153065085411072, 7.891388893127441, 0.002150649670511484, 4.189498424530029\n",
      "Epoch: 24, Fine Tune Loss: 4.265, consits of 0.00032884435495361686, 0.1252949833869934, 0.003360084490850568, 4.135852336883545\n",
      "Epoch: 24, Fine Validation Loss: 12.654, consits of 0.758836567401886, 7.757571697235107, 0.0017416777554899454, 4.135852336883545\n",
      "Epoch: 25, Fine Tune Loss: 4.548, consits of 0.00012063252506777644, 0.45785054564476013, 0.006997986230999231, 4.08277702331543\n",
      "Epoch: 25, Fine Validation Loss: 12.484, consits of 0.9139648675918579, 7.485627174377441, 0.0019000094616785645, 4.08277702331543\n",
      "Epoch: 26, Fine Tune Loss: 4.075, consits of 7.629365427419543e-06, 0.03946899622678757, 0.00375003507360816, 4.031920909881592\n",
      "Epoch: 26, Fine Validation Loss: 12.785, consits of 0.9500711560249329, 7.801202774047852, 0.0020253227557986975, 4.031920909881592\n",
      "Epoch: 27, Fine Tune Loss: 4.349, consits of 0.3439425826072693, 0.02090313471853733, 0.002776392037048936, 3.9813358783721924\n",
      "Epoch: 27, Fine Validation Loss: 12.656, consits of 1.1021366119384766, 7.57068395614624, 0.0020492635667324066, 3.9813358783721924\n",
      "Epoch: 28, Fine Tune Loss: 4.073, consits of 0.09806090593338013, 0.0365842767059803, 0.003321209689602256, 3.9352757930755615\n",
      "Epoch: 28, Fine Validation Loss: 12.938, consits of 0.9641942977905273, 8.036272048950195, 0.002120270859450102, 3.9352757930755615\n",
      "Epoch: 29, Fine Tune Loss: 3.921, consits of 0.00209386320784688, 0.028169767931103706, 0.003452295670285821, 3.8877499103546143\n",
      "Epoch: 29, Fine Validation Loss: 12.335, consits of 0.6671709418296814, 7.778265953063965, 0.0019294904777780175, 3.8877499103546143\n",
      "Epoch: 30, Fine Tune Loss: 4.23, consits of 0.2115909308195114, 0.1775454729795456, 0.004523838870227337, 3.8359038829803467\n",
      "Epoch: 30, Fine Validation Loss: 12.198, consits of 0.9958713054656982, 7.364579200744629, 0.0018916130065917969, 3.8359038829803467\n",
      "Epoch: 31, Fine Tune Loss: 3.848, consits of 0.015951287001371384, 0.045267414301633835, 0.0028357463888823986, 3.7842018604278564\n",
      "Epoch: 31, Fine Validation Loss: 12.054, consits of 0.8372683525085449, 7.430325984954834, 0.0019782078452408314, 3.7842018604278564\n",
      "Epoch: 32, Fine Tune Loss: 4.704, consits of 0.0035284424666315317, 0.9478670954704285, 0.00655546085909009, 3.7461113929748535\n",
      "Epoch: 32, Fine Validation Loss: 12.391, consits of 0.7429193258285522, 7.900068283081055, 0.0021378938108682632, 3.7461113929748535\n",
      "Epoch: 33, Fine Tune Loss: 3.754, consits of 0.0005174727994017303, 0.05157271400094032, 0.005039882380515337, 3.6972577571868896\n",
      "Epoch: 33, Fine Validation Loss: 11.938, consits of 0.5555096864700317, 7.683670997619629, 0.0020384492818266153, 3.6972577571868896\n",
      "Epoch: 34, Fine Tune Loss: 5.787, consits of 2.0603389739990234, 0.054308708757162094, 0.003953140694648027, 3.6683571338653564\n",
      "Epoch: 34, Fine Validation Loss: 12.28, consits of 0.976259171962738, 7.633295059204102, 0.001923113246448338, 3.6683571338653564\n",
      "Epoch: 35, Fine Tune Loss: 4.593, consits of 0.8465428948402405, 0.11001068353652954, 0.004384906496852636, 3.6319122314453125\n",
      "Epoch: 35, Fine Validation Loss: 11.816, consits of 0.5429171323776245, 7.638874530792236, 0.0020940022077411413, 3.6319122314453125\n",
      "Epoch: 36, Fine Tune Loss: 3.649, consits of 0.00482537504285574, 0.04978002607822418, 0.005997029133141041, 3.5888030529022217\n",
      "Epoch: 36, Fine Validation Loss: 11.8, consits of 0.4124474823474884, 7.796756267547607, 0.0020427510607987642, 3.5888030529022217\n",
      "Epoch: 37, Fine Tune Loss: 4.108, consits of 0.4269004762172699, 0.12470724433660507, 0.004316007252782583, 3.551636219024658\n",
      "Epoch: 37, Fine Validation Loss: 12.343, consits of 0.6778974533081055, 8.111184120178223, 0.0020467624999582767, 3.551636219024658\n",
      "Epoch: 38, Fine Tune Loss: 3.667, consits of 0.06977826356887817, 0.0760970488190651, 0.003947214689105749, 3.5169053077697754\n",
      "Epoch: 38, Fine Validation Loss: 11.919, consits of 0.4709916114807129, 7.929141521453857, 0.0021705161780118942, 3.5169053077697754\n",
      "Epoch: 39, Fine Tune Loss: 3.74, consits of 5.3881147323409095e-05, 0.25344231724739075, 0.007166604977101088, 3.4790732860565186\n",
      "Epoch: 39, Fine Validation Loss: 12.04, consits of 0.8670609593391418, 7.692056655883789, 0.0019721207208931446, 3.4790732860565186\n",
      "Epoch: 40, Fine Tune Loss: 3.514, consits of 0.00015889335190877318, 0.06182262673974037, 0.008468814194202423, 3.443220615386963\n",
      "Epoch: 40, Fine Validation Loss: 12.051, consits of 0.6247718334197998, 7.98139762878418, 0.0019609935116022825, 3.443220615386963\n",
      "Epoch: 41, Fine Tune Loss: 4.036, consits of 0.5782079696655273, 0.03690658137202263, 0.0037536288145929575, 3.4168083667755127\n",
      "Epoch: 41, Fine Validation Loss: 12.617, consits of 0.9860545992851257, 8.212444305419922, 0.0019330988870933652, 3.4168083667755127\n",
      "Epoch: 42, Fine Tune Loss: 3.855, consits of 0.37755286693573, 0.08828224986791611, 0.003618068527430296, 3.385460615158081\n",
      "Epoch: 42, Fine Validation Loss: 12.324, consits of 0.9815356135368347, 7.9544854164123535, 0.00208584638312459, 3.385460615158081\n",
      "Epoch: 43, Fine Tune Loss: 3.395, consits of 6.651657167822123e-05, 0.039339978247880936, 0.0032881891820579767, 3.352804183959961\n",
      "Epoch: 43, Fine Validation Loss: 11.857, consits of 0.8407642245292664, 7.661623001098633, 0.0018511090893298388, 3.352804183959961\n",
      "Epoch: 44, Fine Tune Loss: 3.381, consits of 0.002262177411466837, 0.05398808792233467, 0.0036853677593171597, 3.3215463161468506\n",
      "Epoch: 44, Fine Validation Loss: 11.236, consits of 0.036092162132263184, 7.87675142288208, 0.0019938915502279997, 3.3215463161468506\n",
      "Epoch: 45, Fine Tune Loss: 3.339, consits of 0.0010983869433403015, 0.03893717750906944, 0.005402537528425455, 3.2930729389190674\n",
      "Epoch: 45, Fine Validation Loss: 11.921, consits of 0.7536228895187378, 7.872171878814697, 0.002010607859119773, 3.2930729389190674\n",
      "Epoch: 46, Fine Tune Loss: 3.319, consits of 0.007678162306547165, 0.039287980645895004, 0.0059928554110229015, 3.266125202178955\n",
      "Epoch: 46, Fine Validation Loss: 11.711, consits of 0.8081639409065247, 7.634757995605469, 0.001956003485247493, 3.266125202178955\n",
      "Epoch: 47, Fine Tune Loss: 5.525, consits of 0.884513258934021, 1.3915349245071411, 0.00436214916408062, 3.2445435523986816\n",
      "Epoch: 47, Fine Validation Loss: 11.584, consits of 0.6610618829727173, 7.676597595214844, 0.001979450462386012, 3.2445435523986816\n",
      "Epoch: 48, Fine Tune Loss: 3.25, consits of 9.274052717955783e-05, 0.026866475120186806, 0.0029610032215714455, 3.2203686237335205\n",
      "Epoch: 48, Fine Validation Loss: 11.928, consits of 0.8403651118278503, 7.86539363861084, 0.001940151327289641, 3.2203686237335205\n",
      "Epoch: 49, Fine Tune Loss: 3.223, consits of 0.0029042467940598726, 0.024326393380761147, 0.004485100042074919, 3.1909499168395996\n",
      "Epoch: 49, Fine Validation Loss: 10.873, consits of 0.26661407947540283, 7.4131903648376465, 0.0018517818534746766, 3.1909499168395996\n"
     ]
    }
   ],
   "metadata": {}
  },
  {
   "cell_type": "code",
   "execution_count": 11,
   "source": [
    "item=X_val[0].reshape(1,-1,1)\n",
    "shape=item.shape\n",
    "_item=  torch.from_numpy(item).float()\n",
    "model.eval()\n",
    "y_target = torch.nn.functional.softmax(model(_item)).detach().numpy()"
   ],
   "outputs": [],
   "metadata": {}
  },
  {
   "cell_type": "code",
   "execution_count": 12,
   "source": [
    "exp=exp_model.explain(item)"
   ],
   "outputs": [],
   "metadata": {}
  },
  {
   "cell_type": "code",
   "execution_count": 13,
   "source": [
    "np.count_nonzero(item.flatten()-exp.flatten())"
   ],
   "outputs": [
    {
     "output_type": "execute_result",
     "data": {
      "text/plain": [
       "96"
      ]
     },
     "metadata": {},
     "execution_count": 13
    }
   ],
   "metadata": {}
  },
  {
   "cell_type": "code",
   "execution_count": 14,
   "source": [
    "exp_model.plot(item, exp)"
   ],
   "outputs": [
    {
     "output_type": "stream",
     "name": "stdout",
     "text": [
      "(1, 1, 96)\n",
      "(1, 96, 1)\n"
     ]
    },
    {
     "output_type": "display_data",
     "data": {
      "image/png": "[encoded data removed]",
      "text/plain": [
       "<Figure size 432x288 with 1 Axes>"
      ]
     },
     "metadata": {
      "needs_background": "light"
     }
    }
   ],
   "metadata": {}
  },
  {
   "cell_type": "code",
   "execution_count": 15,
   "source": [
    "sns.lineplot(x=range(0,len(exp.reshape(-1))), y=exp.flatten(), color='black')"
   ],
   "outputs": [
    {
     "output_type": "execute_result",
     "data": {
      "text/plain": [
       "<AxesSubplot:>"
      ]
     },
     "metadata": {},
     "execution_count": 15
    },
    {
     "output_type": "display_data",
     "data": {
      "image/png": "[encoded data removed]",
      "text/plain": [
       "<Figure size 432x288 with 1 Axes>"
      ]
     },
     "metadata": {
      "needs_background": "light"
     }
    }
   ],
   "metadata": {}
  },
  {
   "cell_type": "code",
   "execution_count": 16,
   "source": [
    "#print(exp)"
   ],
   "outputs": [],
   "metadata": {}
  },
  {
   "cell_type": "code",
   "execution_count": 17,
   "source": [
    "#print(exp.shape)"
   ],
   "outputs": [],
   "metadata": {}
  },
  {
   "cell_type": "markdown",
   "source": [
    "# Plot Item "
   ],
   "metadata": {}
  },
  {
   "cell_type": "code",
   "execution_count": 18,
   "source": [
    "\n",
    "#exp_model.plot(item,np.argmax(y_target,axis=1)[0],exp,label)"
   ],
   "outputs": [],
   "metadata": {}
  },
  {
   "cell_type": "code",
   "execution_count": 19,
   "source": [
    "#xp_model.plot_in_one(item,np.argmax(y_target,axis=1)[0],exp,label)"
   ],
   "outputs": [],
   "metadata": {}
  }
 ],
 "metadata": {
  "orig_nbformat": 4,
  "language_info": {
   "name": "python",
   "version": "3.7.5",
   "mimetype": "text/x-python",
   "codemirror_mode": {
    "name": "ipython",
    "version": 3
   },
   "pygments_lexer": "ipython3",
   "nbconvert_exporter": "python",
   "file_extension": ".py"
  },
  "kernelspec": {
   "name": "python3",
   "display_name": "Python 3.7.5 64-bit ('TSInterpret-NXJYnQDU': pipenv)"
  },
  "interpreter": {
   "hash": "16db99a3fba429d86cb96b96f3cee6d3141a37b91b1d019974802969710b6701"
  }
 },
 "nbformat": 4,
 "nbformat_minor": 2
}