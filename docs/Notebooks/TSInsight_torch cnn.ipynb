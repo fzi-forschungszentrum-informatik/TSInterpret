{
 "cells": [
  {
   "cell_type": "code",
   "execution_count": 27,
   "source": [
    "import sklearn\n",
    "import pickle\n",
    "import numpy as np \n",
    "import torch \n",
    "from ClassificationModels.CNN_T import ResNetBaseline, get_all_preds, fit, UCRDataset\n",
    "import matplotlib.pyplot as plt\n",
    "import seaborn as sns\n",
    "from sklearn.metrics import confusion_matrix, accuracy_score, classification_report\n",
    "import pandas as pd\n",
    "from tslearn.datasets import UCR_UEA_datasets\n",
    "import os "
   ],
   "outputs": [],
   "metadata": {}
  },
  {
   "cell_type": "markdown",
   "source": [
    "# Parameters"
   ],
   "metadata": {}
  },
  {
   "cell_type": "code",
   "execution_count": 28,
   "source": [
    "#TODO Test and show results on Forest Cover Dataset \n",
    "dataset='ElectricDevices'"
   ],
   "outputs": [],
   "metadata": {}
  },
  {
   "cell_type": "markdown",
   "source": [
    "# Load Data"
   ],
   "metadata": {}
  },
  {
   "cell_type": "code",
   "execution_count": 29,
   "source": [
    "# Train Test Val Split\n",
    "train_x,train_y, test_x, test_y=UCR_UEA_datasets().load_dataset(dataset)\n",
    "train_x = train_x.reshape(-1,1,  train_x.shape[-2])\n",
    "test_x = test_x.reshape(-1,1,  test_x.shape[-2])\n"
   ],
   "outputs": [],
   "metadata": {}
  },
  {
   "cell_type": "code",
   "execution_count": 30,
   "source": [
    "print(test_y.shape)"
   ],
   "outputs": [
    {
     "output_type": "stream",
     "name": "stdout",
     "text": [
      "(7711,)\n"
     ]
    }
   ],
   "metadata": {}
  },
  {
   "cell_type": "code",
   "execution_count": 31,
   "source": [
    "enc1=pickle.load(open(f'../../ClassificationModels/models/{dataset}/OneHotEncoder.pkl','rb'))\n",
    "train_y=enc1.transform(train_y.reshape(-1,1))\n",
    "test_y=enc1.transform(test_y.reshape(-1,1))"
   ],
   "outputs": [],
   "metadata": {}
  },
  {
   "cell_type": "code",
   "execution_count": 32,
   "source": [
    "full_x= np.vstack([train_x, test_x])\n",
    "full_y= np.vstack([train_y, test_y])"
   ],
   "outputs": [],
   "metadata": {}
  },
  {
   "cell_type": "code",
   "execution_count": 33,
   "source": [
    "# New Train/ Test Split with 0.33\n",
    "from sklearn.model_selection import train_test_split\n",
    "X_train, X_test, y_train, y_test = train_test_split( full_x, full_y, test_size=0.33, random_state=42)\n",
    "X_train, X_val, y_train, y_val = train_test_split( X_train, y_train, test_size=0.33, random_state=42)"
   ],
   "outputs": [],
   "metadata": {}
  },
  {
   "cell_type": "markdown",
   "source": [
    "# Model Training"
   ],
   "metadata": {}
  },
  {
   "cell_type": "code",
   "execution_count": 34,
   "source": [
    "#TODO Load Data and make this new\n",
    "n_pred_classes =train_y.shape[1]\n",
    "train_dataset = UCRDataset(X_train.astype(np.float64),y_train.astype(np.int64))\n",
    "test_dataset = UCRDataset(X_test.astype(np.float64),y_test.astype(np.int64))\n",
    "val_dataset = UCRDataset(X_val.astype(np.float64),y_val.astype(np.int64))\n",
    "train_loader = torch.utils.data.DataLoader(train_dataset,batch_size=256,shuffle=True)\n",
    "test_loader = torch.utils.data.DataLoader(test_dataset,batch_size=256,shuffle=False)\n",
    "val_loader = torch.utils.data.DataLoader(val_dataset,batch_size=1,shuffle=False)\n",
    "model = ResNetBaseline(in_channels=1, num_pred_classes=n_pred_classes)\n",
    "model.load_state_dict(torch.load(f'../../ClassificationModels/models/{dataset}/ResNet'))\n",
    "model.eval()"
   ],
   "outputs": [
    {
     "output_type": "execute_result",
     "data": {
      "text/plain": [
       "ResNetBaseline(\n",
       "  (layers): Sequential(\n",
       "    (0): ResNetBlock(\n",
       "      (layers): Sequential(\n",
       "        (0): ConvBlock(\n",
       "          (layers): Sequential(\n",
       "            (0): Conv1dSamePadding(1, 64, kernel_size=(8,), stride=(1,))\n",
       "            (1): BatchNorm1d(64, eps=1e-05, momentum=0.1, affine=True, track_running_stats=True)\n",
       "            (2): ReLU()\n",
       "          )\n",
       "        )\n",
       "        (1): ConvBlock(\n",
       "          (layers): Sequential(\n",
       "            (0): Conv1dSamePadding(64, 64, kernel_size=(5,), stride=(1,))\n",
       "            (1): BatchNorm1d(64, eps=1e-05, momentum=0.1, affine=True, track_running_stats=True)\n",
       "            (2): ReLU()\n",
       "          )\n",
       "        )\n",
       "        (2): ConvBlock(\n",
       "          (layers): Sequential(\n",
       "            (0): Conv1dSamePadding(64, 64, kernel_size=(3,), stride=(1,))\n",
       "            (1): BatchNorm1d(64, eps=1e-05, momentum=0.1, affine=True, track_running_stats=True)\n",
       "            (2): ReLU()\n",
       "          )\n",
       "        )\n",
       "      )\n",
       "      (residual): Sequential(\n",
       "        (0): Conv1dSamePadding(1, 64, kernel_size=(1,), stride=(1,))\n",
       "        (1): BatchNorm1d(64, eps=1e-05, momentum=0.1, affine=True, track_running_stats=True)\n",
       "      )\n",
       "    )\n",
       "    (1): ResNetBlock(\n",
       "      (layers): Sequential(\n",
       "        (0): ConvBlock(\n",
       "          (layers): Sequential(\n",
       "            (0): Conv1dSamePadding(64, 128, kernel_size=(8,), stride=(1,))\n",
       "            (1): BatchNorm1d(128, eps=1e-05, momentum=0.1, affine=True, track_running_stats=True)\n",
       "            (2): ReLU()\n",
       "          )\n",
       "        )\n",
       "        (1): ConvBlock(\n",
       "          (layers): Sequential(\n",
       "            (0): Conv1dSamePadding(128, 128, kernel_size=(5,), stride=(1,))\n",
       "            (1): BatchNorm1d(128, eps=1e-05, momentum=0.1, affine=True, track_running_stats=True)\n",
       "            (2): ReLU()\n",
       "          )\n",
       "        )\n",
       "        (2): ConvBlock(\n",
       "          (layers): Sequential(\n",
       "            (0): Conv1dSamePadding(128, 128, kernel_size=(3,), stride=(1,))\n",
       "            (1): BatchNorm1d(128, eps=1e-05, momentum=0.1, affine=True, track_running_stats=True)\n",
       "            (2): ReLU()\n",
       "          )\n",
       "        )\n",
       "      )\n",
       "      (residual): Sequential(\n",
       "        (0): Conv1dSamePadding(64, 128, kernel_size=(1,), stride=(1,))\n",
       "        (1): BatchNorm1d(128, eps=1e-05, momentum=0.1, affine=True, track_running_stats=True)\n",
       "      )\n",
       "    )\n",
       "    (2): ResNetBlock(\n",
       "      (layers): Sequential(\n",
       "        (0): ConvBlock(\n",
       "          (layers): Sequential(\n",
       "            (0): Conv1dSamePadding(128, 128, kernel_size=(8,), stride=(1,))\n",
       "            (1): BatchNorm1d(128, eps=1e-05, momentum=0.1, affine=True, track_running_stats=True)\n",
       "            (2): ReLU()\n",
       "          )\n",
       "        )\n",
       "        (1): ConvBlock(\n",
       "          (layers): Sequential(\n",
       "            (0): Conv1dSamePadding(128, 128, kernel_size=(5,), stride=(1,))\n",
       "            (1): BatchNorm1d(128, eps=1e-05, momentum=0.1, affine=True, track_running_stats=True)\n",
       "            (2): ReLU()\n",
       "          )\n",
       "        )\n",
       "        (2): ConvBlock(\n",
       "          (layers): Sequential(\n",
       "            (0): Conv1dSamePadding(128, 128, kernel_size=(3,), stride=(1,))\n",
       "            (1): BatchNorm1d(128, eps=1e-05, momentum=0.1, affine=True, track_running_stats=True)\n",
       "            (2): ReLU()\n",
       "          )\n",
       "        )\n",
       "      )\n",
       "    )\n",
       "  )\n",
       "  (final): Linear(in_features=128, out_features=7, bias=True)\n",
       ")"
      ]
     },
     "metadata": {},
     "execution_count": 34
    }
   ],
   "metadata": {}
  },
  {
   "cell_type": "code",
   "execution_count": 35,
   "source": [
    "#from TSInterpret.InterpretabilityModels.TSInsight.TSInsightPYT import TSInsightPYT\n",
    "#exp_model=TSInsightPYT(model,(train_x.shape[-2],train_x.shape[-1]),(train_x,train_y), (test_x,test_y), autoencoder='cnn')\n"
   ],
   "outputs": [],
   "metadata": {}
  },
  {
   "cell_type": "markdown",
   "source": [
    "# Explanation Algo"
   ],
   "metadata": {}
  },
  {
   "cell_type": "code",
   "execution_count": 36,
   "source": [
    "from TSInterpret.InterpretabilityModels.TSInsight.CNN_PYT import ConvAutoencoder\n",
    "from TSInterpret.InterpretabilityModels.TSInsight.TSInsightPYT import TSInsightPYT\n",
    "#TODO make model decision according to val !\n",
    "autoencoder= ConvAutoencoder(1)\n",
    "autoencoder.load_state_dict(torch.load(f'../../ClassificationModels/models/{dataset}/TSInsightAutoencoder_cnn'))\n",
    "exp_model=TSInsightPYT(model,(train_x.shape[-2],train_x.shape[-1]),(train_x,train_y), (test_x,test_y), autoencoder=autoencoder)"
   ],
   "outputs": [
    {
     "output_type": "stream",
     "name": "stdout",
     "text": [
      "INFO - Provided Datasets are Tuples. Create a Default DataLoader.\n",
      "Epoch: 0, Fine Tune Loss: 6.417, consits of 1.1772937774658203, 0.02637423388659954, 0.004953066818416119, 5.208116054534912\n",
      "Epoch: 0, Fine Validation Loss: 7.766, consits of 2.5431013107299805, 0.013339596800506115, 0.001749119721353054, 5.208116054534912\n",
      "Epoch: 1, Fine Tune Loss: 5.399, consits of 0.7682662010192871, 0.10928115993738174, 0.003174756420776248, 4.518661022186279\n",
      "Epoch: 1, Fine Validation Loss: 6.793, consits of 2.067401885986328, 0.2035135179758072, 0.003100744215771556, 4.518661022186279\n",
      "Epoch: 2, Fine Tune Loss: 6.255, consits of 2.076974630355835, 0.08072581142187119, 0.003414023434743285, 4.093662738800049\n",
      "Epoch: 2, Fine Validation Loss: 6.372, consits of 2.0854763984680176, 0.18957798182964325, 0.0029409541748464108, 4.093662738800049\n",
      "Epoch: 3, Fine Tune Loss: 8.184, consits of 0.6969503164291382, 3.703386068344116, 0.013383686542510986, 3.770275831222534\n",
      "Epoch: 3, Fine Validation Loss: 5.964, consits of 2.017259120941162, 0.17338426411151886, 0.003066682256758213, 3.770275831222534\n",
      "Epoch: 4, Fine Tune Loss: 11.892, consits of 8.209615707397461, 0.16775190830230713, 0.004107454791665077, 3.510760545730591\n",
      "Epoch: 4, Fine Validation Loss: 5.735, consits of 2.0051023960113525, 0.21620871126651764, 0.003207060508430004, 3.510760545730591\n",
      "Epoch: 5, Fine Tune Loss: 4.434, consits of 1.0162396430969238, 0.10370855778455734, 0.006509420461952686, 3.3078129291534424\n",
      "Epoch: 5, Fine Validation Loss: 5.628, consits of 2.10508131980896, 0.21157711744308472, 0.0031028813682496548, 3.3078129291534424\n",
      "Epoch: 6, Fine Tune Loss: 11.622, consits of 8.18167495727539, 0.2702156603336334, 0.0060867685824632645, 3.1638314723968506\n",
      "Epoch: 6, Fine Validation Loss: 5.426, consits of 2.0276432037353516, 0.2313552349805832, 0.0034665334969758987, 3.1638314723968506\n",
      "Epoch: 7, Fine Tune Loss: 6.814, consits of 3.6711318492889404, 0.11121387034654617, 0.004593130201101303, 3.0268912315368652\n",
      "Epoch: 7, Fine Validation Loss: 5.21, consits of 1.9970200061798096, 0.18271560966968536, 0.003125371178612113, 3.0268912315368652\n",
      "Epoch: 8, Fine Tune Loss: 11.482, consits of 8.136309623718262, 0.41223374009132385, 0.0059555587358772755, 2.9276905059814453\n",
      "Epoch: 8, Fine Validation Loss: 5.125, consits of 1.9733190536499023, 0.22091668844223022, 0.0033328947611153126, 2.9276905059814453\n",
      "Epoch: 9, Fine Tune Loss: 8.013, consits of 5.067593097686768, 0.10229522734880447, 0.003265173640102148, 2.8393850326538086\n",
      "Epoch: 9, Fine Validation Loss: 5.023, consits of 1.980586290359497, 0.20011432468891144, 0.003327738493680954, 2.8393850326538086\n",
      "Epoch: 10, Fine Tune Loss: 3.73, consits of 0.5097145438194275, 0.4474296569824219, 0.006493959575891495, 2.765941619873047\n",
      "Epoch: 10, Fine Validation Loss: 4.949, consits of 1.9959709644317627, 0.18418706953525543, 0.0033348228316754103, 2.765941619873047\n",
      "Epoch: 11, Fine Tune Loss: 7.508, consits of 4.687613010406494, 0.11687032133340836, 0.0036849775351583958, 2.6999032497406006\n",
      "Epoch: 11, Fine Validation Loss: 4.886, consits of 1.9896371364593506, 0.19296525418758392, 0.003332977183163166, 2.6999032497406006\n",
      "Epoch: 12, Fine Tune Loss: 7.815, consits of 0.678571343421936, 4.4837164878845215, 0.007624081801623106, 2.645409345626831\n",
      "Epoch: 12, Fine Validation Loss: 4.836, consits of 1.9695723056793213, 0.2179228812456131, 0.0033828066661953926, 2.645409345626831\n",
      "Epoch: 13, Fine Tune Loss: 5.349, consits of 2.622744560241699, 0.12484145164489746, 0.004267997108399868, 2.5973029136657715\n",
      "Epoch: 13, Fine Validation Loss: 4.762, consits of 1.9750632047653198, 0.18647517263889313, 0.0033066822215914726, 2.5973029136657715\n",
      "Epoch: 14, Fine Tune Loss: 9.41, consits of 6.522454261779785, 0.3189275860786438, 0.005489823874086142, 2.563509702682495\n",
      "Epoch: 14, Fine Validation Loss: 4.779, consits of 2.0090928077697754, 0.20267736911773682, 0.0033030326012521982, 2.563509702682495\n",
      "Epoch: 15, Fine Tune Loss: 6.01, consits of 0.5095599293708801, 2.9608962535858154, 0.00830403994768858, 2.5314764976501465\n",
      "Epoch: 15, Fine Validation Loss: 4.74, consits of 1.9932582378387451, 0.212429940700531, 0.003245774656534195, 2.5314764976501465\n",
      "Epoch: 16, Fine Tune Loss: 7.566, consits of 2.042275905609131, 3.0089504718780518, 0.011274260468780994, 2.503028154373169\n",
      "Epoch: 16, Fine Validation Loss: 4.718, consits of 1.986734390258789, 0.2250528186559677, 0.0033750080037862062, 2.503028154373169\n",
      "Epoch: 17, Fine Tune Loss: 5.179, consits of 1.9503601789474487, 0.7478368282318115, 0.006375601049512625, 2.4747042655944824\n",
      "Epoch: 17, Fine Validation Loss: 4.739, consits of 2.015800714492798, 0.24510033428668976, 0.0033107679337263107, 2.4747042655944824\n",
      "Epoch: 18, Fine Tune Loss: 3.308, consits of 0.716606080532074, 0.1217675730586052, 0.0054214391857385635, 2.464489459991455\n",
      "Epoch: 18, Fine Validation Loss: 4.648, consits of 1.9856386184692383, 0.1948843002319336, 0.003328633029013872, 2.464489459991455\n",
      "Epoch: 19, Fine Tune Loss: 17.207, consits of 10.480281829833984, 4.274949550628662, 0.007995184510946274, 2.444042444229126\n",
      "Epoch: 19, Fine Validation Loss: 4.637, consits of 1.9974232912063599, 0.19266359508037567, 0.0032795355655252934, 2.444042444229126\n",
      "Epoch: 20, Fine Tune Loss: 5.774, consits of 3.230687379837036, 0.10671442747116089, 0.003074078122153878, 2.433988571166992\n",
      "Epoch: 20, Fine Validation Loss: 4.638, consits of 2.030501365661621, 0.1705966591835022, 0.0032821032218635082, 2.433988571166992\n",
      "Epoch: 21, Fine Tune Loss: 3.694, consits of 1.1280723810195923, 0.137863889336586, 0.007423100993037224, 2.4203040599823\n",
      "Epoch: 21, Fine Validation Loss: 4.609, consits of 1.9770376682281494, 0.20824982225894928, 0.0033411551266908646, 2.4203040599823\n",
      "Epoch: 22, Fine Tune Loss: 10.478, consits of 2.7907354831695557, 5.26168155670166, 0.011711561121046543, 2.4137113094329834\n",
      "Epoch: 22, Fine Validation Loss: 4.572, consits of 1.9955687522888184, 0.15942589938640594, 0.003272576490417123, 2.4137113094329834\n",
      "Epoch: 23, Fine Tune Loss: 9.801, consits of 2.081592082977295, 5.304575443267822, 0.012375123798847198, 2.4021918773651123\n",
      "Epoch: 23, Fine Validation Loss: 4.556, consits of 1.9651198387145996, 0.1849791556596756, 0.003306386526674032, 2.4021918773651123\n",
      "Epoch: 24, Fine Tune Loss: 3.559, consits of 0.5846477746963501, 0.5665774345397949, 0.005687591154128313, 2.402009963989258\n",
      "Epoch: 24, Fine Validation Loss: 4.583, consits of 1.9772136211395264, 0.200283944606781, 0.0033279182389378548, 2.402009963989258\n",
      "Epoch: 25, Fine Tune Loss: 14.67, consits of 10.86855697631836, 1.4047855138778687, 0.008042929694056511, 2.388343095779419\n",
      "Epoch: 25, Fine Validation Loss: 4.581, consits of 2.0005412101745605, 0.18897448480129242, 0.0032936979550868273, 2.388343095779419\n",
      "Epoch: 26, Fine Tune Loss: 3.913, consits of 1.1650125980377197, 0.34824302792549133, 0.007394607178866863, 2.392270803451538\n",
      "Epoch: 26, Fine Validation Loss: 4.561, consits of 1.9846760034561157, 0.1808180809020996, 0.0032911994494497776, 2.392270803451538\n",
      "Epoch: 27, Fine Tune Loss: 7.947, consits of 1.242559790611267, 4.30222749710083, 0.013367113657295704, 2.3883731365203857\n",
      "Epoch: 27, Fine Validation Loss: 4.564, consits of 1.9872229099273682, 0.18539266288280487, 0.0033106741029769182, 2.3883731365203857\n",
      "Epoch: 28, Fine Tune Loss: 9.057, consits of 3.968254566192627, 2.696880578994751, 0.011178789660334587, 2.3804168701171875\n",
      "Epoch: 28, Fine Validation Loss: 4.533, consits of 1.9896125793457031, 0.15954993665218353, 0.0032427210826426744, 2.3804168701171875\n",
      "Epoch: 29, Fine Tune Loss: 11.071, consits of 8.289727210998535, 0.38688531517982483, 0.00497442577034235, 2.389526128768921\n",
      "Epoch: 29, Fine Validation Loss: 4.586, consits of 1.966060996055603, 0.22674651443958282, 0.00347174983471632, 2.389526128768921\n",
      "Epoch: 30, Fine Tune Loss: 5.495, consits of 3.016416549682617, 0.09137637168169022, 0.005451051983982325, 2.3813252449035645\n",
      "Epoch: 30, Fine Validation Loss: 4.588, consits of 2.005788564682007, 0.1970476508140564, 0.0033434610813856125, 2.3813252449035645\n",
      "Epoch: 31, Fine Tune Loss: 5.217, consits of 2.677915573120117, 0.1597851812839508, 0.003268804168328643, 2.3758981227874756\n",
      "Epoch: 31, Fine Validation Loss: 4.563, consits of 1.9791374206542969, 0.2045305371284485, 0.0033424471039325, 2.3758981227874756\n",
      "Epoch: 32, Fine Tune Loss: 6.448, consits of 0.6728145480155945, 3.391859769821167, 0.008526074700057507, 2.37460994720459\n",
      "Epoch: 32, Fine Validation Loss: 4.606, consits of 1.9855952262878418, 0.24256616830825806, 0.003407038515433669, 2.37460994720459\n",
      "Epoch: 33, Fine Tune Loss: 3.613, consits of 0.9997354745864868, 0.23395459353923798, 0.006716441363096237, 2.3727850914001465\n",
      "Epoch: 33, Fine Validation Loss: 4.536, consits of 1.9795832633972168, 0.18004441261291504, 0.0032580066472291946, 2.3727850914001465\n",
      "Epoch: 34, Fine Tune Loss: 3.596, consits of 1.1358516216278076, 0.08231338858604431, 0.004566716495901346, 2.37349009513855\n",
      "Epoch: 34, Fine Validation Loss: 4.651, consits of 2.0367584228515625, 0.23714976012706757, 0.0035015905741602182, 2.37349009513855\n",
      "Epoch: 35, Fine Tune Loss: 4.476, consits of 1.218090295791626, 0.8771352767944336, 0.00832640752196312, 2.3726680278778076\n",
      "Epoch: 35, Fine Validation Loss: 4.55, consits of 1.9891612529754639, 0.1851627677679062, 0.003298439783975482, 2.3726680278778076\n",
      "Epoch: 36, Fine Tune Loss: 3.685, consits of 0.9560190439224243, 0.3534785807132721, 0.005829622037708759, 2.369319200515747\n",
      "Epoch: 36, Fine Validation Loss: 4.566, consits of 1.984112024307251, 0.20966069400310516, 0.0033829601015895605, 2.369319200515747\n",
      "Epoch: 37, Fine Tune Loss: 4.659, consits of 1.37001633644104, 0.9081480503082275, 0.00708212424069643, 2.3740198612213135\n",
      "Epoch: 37, Fine Validation Loss: 4.576, consits of 1.981297254562378, 0.21776117384433746, 0.0033642847556620836, 2.3740198612213135\n",
      "Epoch: 38, Fine Tune Loss: 3.816, consits of 1.1028392314910889, 0.3360264003276825, 0.007915782742202282, 2.368978977203369\n",
      "Epoch: 38, Fine Validation Loss: 4.732, consits of 2.103031873703003, 0.25633272528648376, 0.0033073031809180975, 2.368978977203369\n",
      "Early Stopping\n"
     ]
    }
   ],
   "metadata": {}
  },
  {
   "cell_type": "code",
   "execution_count": 37,
   "source": [
    "#from TSInterpret.InterpretabilityModels.TSInsight.TSInsightPYT import TSInsightPYT\n",
    "#exp_model=TSInsightPYT(model,(shape[-2],shape[-1]),train_loader, test_loader, autoencoder='cnn')"
   ],
   "outputs": [],
   "metadata": {}
  },
  {
   "cell_type": "code",
   "execution_count": 38,
   "source": [
    "# save model \n",
    "#torch.save(exp_model.autoencoder.state_dict(), f'../../ClassificationModels/models/{dataset}/TSInsightAutoencoder_cnn')"
   ],
   "outputs": [],
   "metadata": {}
  },
  {
   "cell_type": "code",
   "execution_count": 39,
   "source": [
    "item=X_val[0].reshape(1,1,-1)\n",
    "shape=item.shape\n",
    "_item=  torch.from_numpy(item).float()\n",
    "model.eval()\n",
    "#y_target= model(_item).detach().numpy()\n",
    "y_target = torch.nn.functional.softmax(model(_item)).detach().numpy()"
   ],
   "outputs": [],
   "metadata": {}
  },
  {
   "cell_type": "code",
   "execution_count": 40,
   "source": [
    "exp=exp_model.explain(item)"
   ],
   "outputs": [],
   "metadata": {}
  },
  {
   "cell_type": "code",
   "execution_count": 41,
   "source": [
    "np.count_nonzero(item.flatten()-exp.flatten())"
   ],
   "outputs": [
    {
     "output_type": "execute_result",
     "data": {
      "text/plain": [
       "96"
      ]
     },
     "metadata": {},
     "execution_count": 41
    }
   ],
   "metadata": {}
  },
  {
   "cell_type": "code",
   "execution_count": 42,
   "source": [
    "exp.shape"
   ],
   "outputs": [
    {
     "output_type": "execute_result",
     "data": {
      "text/plain": [
       "(1, 1, 96)"
      ]
     },
     "metadata": {},
     "execution_count": 42
    }
   ],
   "metadata": {}
  },
  {
   "cell_type": "code",
   "execution_count": 43,
   "source": [
    "item.shape"
   ],
   "outputs": [
    {
     "output_type": "execute_result",
     "data": {
      "text/plain": [
       "(1, 1, 96)"
      ]
     },
     "metadata": {},
     "execution_count": 43
    }
   ],
   "metadata": {}
  },
  {
   "cell_type": "code",
   "execution_count": 44,
   "source": [
    "#TODO scale og plot\n",
    "exp_model.plot(item, exp,all_in_one=False)"
   ],
   "outputs": [
    {
     "output_type": "display_data",
     "data": {
      "image/png": "[encoded data removed]",
      "text/plain": [
       "<Figure size 432x288 with 4 Axes>"
      ]
     },
     "metadata": {
      "needs_background": "light"
     }
    }
   ],
   "metadata": {}
  },
  {
   "cell_type": "code",
   "execution_count": 45,
   "source": [
    "exp_model.plot(item, exp)"
   ],
   "outputs": [
    {
     "output_type": "display_data",
     "data": {
      "image/png": "[encoded data removed]",
      "text/plain": [
       "<Figure size 432x288 with 1 Axes>"
      ]
     },
     "metadata": {
      "needs_background": "light"
     }
    }
   ],
   "metadata": {}
  },
  {
   "cell_type": "code",
   "execution_count": 46,
   "source": [
    "sns.lineplot(x=range(0,len(exp.reshape(-1))), y=exp.flatten(), color='black')"
   ],
   "outputs": [
    {
     "output_type": "execute_result",
     "data": {
      "text/plain": [
       "<AxesSubplot:>"
      ]
     },
     "metadata": {},
     "execution_count": 46
    },
    {
     "output_type": "display_data",
     "data": {
      "image/png": "[encoded data removed]",
      "text/plain": [
       "<Figure size 432x288 with 1 Axes>"
      ]
     },
     "metadata": {
      "needs_background": "light"
     }
    }
   ],
   "metadata": {}
  }
 ],
 "metadata": {
  "orig_nbformat": 4,
  "language_info": {
   "name": "python",
   "version": "3.7.5",
   "mimetype": "text/x-python",
   "codemirror_mode": {
    "name": "ipython",
    "version": 3
   },
   "pygments_lexer": "ipython3",
   "nbconvert_exporter": "python",
   "file_extension": ".py"
  },
  "kernelspec": {
   "name": "python3",
   "display_name": "Python 3.7.5 64-bit ('TSInterpret-NXJYnQDU': pipenv)"
  },
  "interpreter": {
   "hash": "16db99a3fba429d86cb96b96f3cee6d3141a37b91b1d019974802969710b6701"
  }
 },
 "nbformat": 4,
 "nbformat_minor": 2
}