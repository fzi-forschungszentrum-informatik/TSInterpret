{
 "cells": [
  {
   "cell_type": "code",
   "execution_count": 1,
   "source": [
    "import sklearn\n",
    "import pickle\n",
    "import numpy as np \n",
    "import torch \n",
    "from ClassificationModels.CNN_T import ResNetBaseline, get_all_preds, fit, UCRDataset\n",
    "import matplotlib.pyplot as plt\n",
    "import seaborn as sns\n",
    "from sklearn.metrics import confusion_matrix, accuracy_score, classification_report\n",
    "import pandas as pd\n",
    "from tslearn.datasets import UCR_UEA_datasets\n",
    "import os "
   ],
   "outputs": [],
   "metadata": {}
  },
  {
   "cell_type": "markdown",
   "source": [
    "# Parameters"
   ],
   "metadata": {}
  },
  {
   "cell_type": "code",
   "execution_count": 2,
   "source": [
    "#TODO Test and show results on Forest Cover Dataset \n",
    "dataset='ElectricDevices'"
   ],
   "outputs": [],
   "metadata": {}
  },
  {
   "cell_type": "markdown",
   "source": [
    "# Load Data"
   ],
   "metadata": {}
  },
  {
   "cell_type": "code",
   "execution_count": 3,
   "source": [
    "# Train Test Val Split\n",
    "train_x,train_y, test_x, test_y=UCR_UEA_datasets().load_dataset(dataset)\n",
    "train_x = train_x.reshape(-1,1,  train_x.shape[-2])\n",
    "test_x = test_x.reshape(-1,1,  test_x.shape[-2])\n"
   ],
   "outputs": [],
   "metadata": {}
  },
  {
   "cell_type": "code",
   "execution_count": 4,
   "source": [
    "print(test_y.shape)"
   ],
   "outputs": [
    {
     "output_type": "stream",
     "name": "stdout",
     "text": [
      "(7711,)\n"
     ]
    }
   ],
   "metadata": {}
  },
  {
   "cell_type": "code",
   "execution_count": 5,
   "source": [
    "enc1=pickle.load(open(f'../../ClassificationModels/models/{dataset}/OneHotEncoder.pkl','rb'))\n",
    "train_y=enc1.transform(train_y.reshape(-1,1))\n",
    "test_y=enc1.transform(test_y.reshape(-1,1))"
   ],
   "outputs": [
    {
     "output_type": "stream",
     "name": "stderr",
     "text": [
      "/home/jacqueline/.local/share/virtualenvs/TSInterpret-NXJYnQDU/lib/python3.7/site-packages/sklearn/base.py:338: UserWarning: Trying to unpickle estimator OneHotEncoder from version 0.24.2 when using version 1.0.2. This might lead to breaking code or invalid results. Use at your own risk. For more info please refer to:\n",
      "https://scikit-learn.org/stable/modules/model_persistence.html#security-maintainability-limitations\n",
      "  UserWarning,\n"
     ]
    }
   ],
   "metadata": {}
  },
  {
   "cell_type": "code",
   "execution_count": 6,
   "source": [
    "full_x= np.vstack([train_x, test_x])\n",
    "full_y= np.vstack([train_y, test_y])"
   ],
   "outputs": [],
   "metadata": {}
  },
  {
   "cell_type": "code",
   "execution_count": 7,
   "source": [
    "# New Train/ Test Split with 0.33\n",
    "from sklearn.model_selection import train_test_split\n",
    "X_train, X_test, y_train, y_test = train_test_split( full_x, full_y, test_size=0.33, random_state=42)\n",
    "X_train, X_val, y_train, y_val = train_test_split( X_train, y_train, test_size=0.33, random_state=42)"
   ],
   "outputs": [],
   "metadata": {}
  },
  {
   "cell_type": "markdown",
   "source": [
    "# Model Training"
   ],
   "metadata": {}
  },
  {
   "cell_type": "code",
   "execution_count": 8,
   "source": [
    "#TODO Load Data and make this new\n",
    "n_pred_classes =train_y.shape[1]\n",
    "train_dataset = UCRDataset(X_train.astype(np.float64),y_train.astype(np.int64))\n",
    "test_dataset = UCRDataset(X_test.astype(np.float64),y_test.astype(np.int64))\n",
    "val_dataset = UCRDataset(X_val.astype(np.float64),y_val.astype(np.int64))\n",
    "train_loader = torch.utils.data.DataLoader(train_dataset,batch_size=256,shuffle=True)\n",
    "test_loader = torch.utils.data.DataLoader(test_dataset,batch_size=256,shuffle=False)\n",
    "val_loader = torch.utils.data.DataLoader(val_dataset,batch_size=1,shuffle=False)\n",
    "model = ResNetBaseline(in_channels=1, num_pred_classes=n_pred_classes)\n",
    "model.load_state_dict(torch.load(f'../../ClassificationModels/models/{dataset}/ResNet'))\n",
    "model.eval()"
   ],
   "outputs": [
    {
     "output_type": "execute_result",
     "data": {
      "text/plain": [
       "ResNetBaseline(\n",
       "  (layers): Sequential(\n",
       "    (0): ResNetBlock(\n",
       "      (layers): Sequential(\n",
       "        (0): ConvBlock(\n",
       "          (layers): Sequential(\n",
       "            (0): Conv1dSamePadding(1, 64, kernel_size=(8,), stride=(1,))\n",
       "            (1): BatchNorm1d(64, eps=1e-05, momentum=0.1, affine=True, track_running_stats=True)\n",
       "            (2): ReLU()\n",
       "          )\n",
       "        )\n",
       "        (1): ConvBlock(\n",
       "          (layers): Sequential(\n",
       "            (0): Conv1dSamePadding(64, 64, kernel_size=(5,), stride=(1,))\n",
       "            (1): BatchNorm1d(64, eps=1e-05, momentum=0.1, affine=True, track_running_stats=True)\n",
       "            (2): ReLU()\n",
       "          )\n",
       "        )\n",
       "        (2): ConvBlock(\n",
       "          (layers): Sequential(\n",
       "            (0): Conv1dSamePadding(64, 64, kernel_size=(3,), stride=(1,))\n",
       "            (1): BatchNorm1d(64, eps=1e-05, momentum=0.1, affine=True, track_running_stats=True)\n",
       "            (2): ReLU()\n",
       "          )\n",
       "        )\n",
       "      )\n",
       "      (residual): Sequential(\n",
       "        (0): Conv1dSamePadding(1, 64, kernel_size=(1,), stride=(1,))\n",
       "        (1): BatchNorm1d(64, eps=1e-05, momentum=0.1, affine=True, track_running_stats=True)\n",
       "      )\n",
       "    )\n",
       "    (1): ResNetBlock(\n",
       "      (layers): Sequential(\n",
       "        (0): ConvBlock(\n",
       "          (layers): Sequential(\n",
       "            (0): Conv1dSamePadding(64, 128, kernel_size=(8,), stride=(1,))\n",
       "            (1): BatchNorm1d(128, eps=1e-05, momentum=0.1, affine=True, track_running_stats=True)\n",
       "            (2): ReLU()\n",
       "          )\n",
       "        )\n",
       "        (1): ConvBlock(\n",
       "          (layers): Sequential(\n",
       "            (0): Conv1dSamePadding(128, 128, kernel_size=(5,), stride=(1,))\n",
       "            (1): BatchNorm1d(128, eps=1e-05, momentum=0.1, affine=True, track_running_stats=True)\n",
       "            (2): ReLU()\n",
       "          )\n",
       "        )\n",
       "        (2): ConvBlock(\n",
       "          (layers): Sequential(\n",
       "            (0): Conv1dSamePadding(128, 128, kernel_size=(3,), stride=(1,))\n",
       "            (1): BatchNorm1d(128, eps=1e-05, momentum=0.1, affine=True, track_running_stats=True)\n",
       "            (2): ReLU()\n",
       "          )\n",
       "        )\n",
       "      )\n",
       "      (residual): Sequential(\n",
       "        (0): Conv1dSamePadding(64, 128, kernel_size=(1,), stride=(1,))\n",
       "        (1): BatchNorm1d(128, eps=1e-05, momentum=0.1, affine=True, track_running_stats=True)\n",
       "      )\n",
       "    )\n",
       "    (2): ResNetBlock(\n",
       "      (layers): Sequential(\n",
       "        (0): ConvBlock(\n",
       "          (layers): Sequential(\n",
       "            (0): Conv1dSamePadding(128, 128, kernel_size=(8,), stride=(1,))\n",
       "            (1): BatchNorm1d(128, eps=1e-05, momentum=0.1, affine=True, track_running_stats=True)\n",
       "            (2): ReLU()\n",
       "          )\n",
       "        )\n",
       "        (1): ConvBlock(\n",
       "          (layers): Sequential(\n",
       "            (0): Conv1dSamePadding(128, 128, kernel_size=(5,), stride=(1,))\n",
       "            (1): BatchNorm1d(128, eps=1e-05, momentum=0.1, affine=True, track_running_stats=True)\n",
       "            (2): ReLU()\n",
       "          )\n",
       "        )\n",
       "        (2): ConvBlock(\n",
       "          (layers): Sequential(\n",
       "            (0): Conv1dSamePadding(128, 128, kernel_size=(3,), stride=(1,))\n",
       "            (1): BatchNorm1d(128, eps=1e-05, momentum=0.1, affine=True, track_running_stats=True)\n",
       "            (2): ReLU()\n",
       "          )\n",
       "        )\n",
       "      )\n",
       "    )\n",
       "  )\n",
       "  (final): Linear(in_features=128, out_features=7, bias=True)\n",
       ")"
      ]
     },
     "metadata": {},
     "execution_count": 8
    }
   ],
   "metadata": {}
  },
  {
   "cell_type": "code",
   "execution_count": 9,
   "source": [
    "#from TSInterpret.InterpretabilityModels.TSInsight.TSInsightPYT import TSInsightPYT\n",
    "#exp_model=TSInsightPYT(model,(train_x.shape[-2],train_x.shape[-1]),(train_x,train_y), (test_x,test_y), autoencoder='cnn')\n"
   ],
   "outputs": [],
   "metadata": {}
  },
  {
   "cell_type": "markdown",
   "source": [
    "# Explanation Algo"
   ],
   "metadata": {}
  },
  {
   "cell_type": "code",
   "execution_count": 10,
   "source": [
    "from TSInterpret.InterpretabilityModels.TSInsight.PYT_AE.CNN_PYT import ConvAutoencoder\n",
    "from TSInterpret.InterpretabilityModels.TSInsight.TSInsightPYT import TSInsightPYT\n",
    "#TODO make model decision according to val !\n",
    "autoencoder= ConvAutoencoder(1)\n",
    "autoencoder.load_state_dict(torch.load(f'../../ClassificationModels/models/{dataset}/TSInsightAutoencoder_cnn'))\n",
    "exp_model=TSInsightPYT(model,(train_x.shape[-2],train_x.shape[-1]),(train_x,train_y), (test_x,test_y), autoencoder=autoencoder)"
   ],
   "outputs": [
    {
     "output_type": "stream",
     "name": "stderr",
     "text": [
      "2022-08-02 16:47:23.449930: W tensorflow/stream_executor/platform/default/dso_loader.cc:64] Could not load dynamic library 'libcudart.so.11.0'; dlerror: libcudart.so.11.0: cannot open shared object file: No such file or directory\n",
      "2022-08-02 16:47:23.449953: I tensorflow/stream_executor/cuda/cudart_stub.cc:29] Ignore above cudart dlerror if you do not have a GPU set up on your machine.\n"
     ]
    },
    {
     "output_type": "stream",
     "name": "stdout",
     "text": [
      "<class 'TSInterpret.InterpretabilityModels.TSInsight.PYT_AE.CNN_PYT.ConvAutoencoder'>\n",
      "Check cnn\n",
      "cnn ae flag True\n",
      "cnn_model True\n",
      "INFO - Provided Datasets are Tuples. Create a Default DataLoader.\n",
      "Epoch: 0, Fine Tune Loss: 6.377, consits of 1.1722784042358398, 0.04569876194000244, 0.006065641064196825, 5.152510166168213\n",
      "Epoch: 0, Fine Validation Loss: 7.636, consits of 2.4743590354919434, 0.007291880901902914, 0.0017619561403989792, 5.152510166168213\n",
      "Epoch: 1, Fine Tune Loss: 14.923, consits of 7.2167887687683105, 3.4006214141845703, 0.013879510574042797, 4.291740894317627\n",
      "Epoch: 1, Fine Validation Loss: 6.49, consits of 2.049236297607422, 0.14694486558437347, 0.0025658647064119577, 4.291740894317627\n",
      "Epoch: 2, Fine Tune Loss: 5.662, consits of 1.406614065170288, 0.35838115215301514, 0.008036233484745026, 3.8892605304718018\n",
      "Epoch: 2, Fine Validation Loss: 6.081, consits of 2.0104377269744873, 0.17823849618434906, 0.0029041776433587074, 3.8892605304718018\n",
      "Epoch: 3, Fine Tune Loss: 11.766, consits of 8.033273696899414, 0.14194707572460175, 0.0037719695828855038, 3.5873496532440186\n",
      "Epoch: 3, Fine Validation Loss: 5.791, consits of 1.9868359565734863, 0.214088574051857, 0.0030529864598065615, 3.5873496532440186\n",
      "Epoch: 4, Fine Tune Loss: 6.463, consits of 2.854027271270752, 0.22692067921161652, 0.0059723760932683945, 3.3762619495391846\n",
      "Epoch: 4, Fine Validation Loss: 5.598, consits of 1.9889973402023315, 0.22950565814971924, 0.0032683631870895624, 3.3762619495391846\n",
      "Epoch: 5, Fine Tune Loss: 13.51, consits of 4.76765251159668, 5.540211200714111, 0.011414065025746822, 3.190390110015869\n",
      "Epoch: 5, Fine Validation Loss: 5.386, consits of 2.0140810012817383, 0.17820076644420624, 0.0030940372962504625, 3.190390110015869\n",
      "Epoch: 6, Fine Tune Loss: 15.111, consits of 10.462665557861328, 1.5964852571487427, 0.008464356884360313, 3.043161153793335\n",
      "Epoch: 6, Fine Validation Loss: 5.258, consits of 1.9965555667877197, 0.21463732421398163, 0.0031659540254622698, 3.043161153793335\n",
      "Epoch: 7, Fine Tune Loss: 6.489, consits of 3.072889804840088, 0.4878213107585907, 0.006371956318616867, 2.9216983318328857\n",
      "Epoch: 7, Fine Validation Loss: 5.081, consits of 1.9705638885498047, 0.185838982462883, 0.0031795601826161146, 2.9216983318328857\n",
      "Epoch: 8, Fine Tune Loss: 8.57, consits of 5.336478233337402, 0.40555667877197266, 0.004636759869754314, 2.8238017559051514\n",
      "Epoch: 8, Fine Validation Loss: 5.069, consits of 2.0060925483703613, 0.23564404249191284, 0.0032034022733569145, 2.8238017559051514\n",
      "Epoch: 9, Fine Tune Loss: 4.928, consits of 2.06552791595459, 0.1176738366484642, 0.0029745714273303747, 2.742258071899414\n",
      "Epoch: 9, Fine Validation Loss: 4.889, consits of 1.9654449224472046, 0.1785178929567337, 0.0031380061991512775, 2.742258071899414\n",
      "Epoch: 10, Fine Tune Loss: 3.906, consits of 0.6261221766471863, 0.5970413684844971, 0.006223122123628855, 2.676656484603882\n",
      "Epoch: 10, Fine Validation Loss: 4.831, consits of 1.9786131381988525, 0.1723496913909912, 0.003095235675573349, 2.676656484603882\n",
      "Epoch: 11, Fine Tune Loss: 4.288, consits of 0.9168537855148315, 0.7463701367378235, 0.007030291482806206, 2.6181929111480713\n",
      "Epoch: 11, Fine Validation Loss: 4.808, consits of 1.9704384803771973, 0.2159598022699356, 0.0032064809929579496, 2.6181929111480713\n",
      "Epoch: 12, Fine Tune Loss: 12.068, consits of 2.6678998470306396, 6.8111443519592285, 0.0123559245839715, 2.5763401985168457\n",
      "Epoch: 12, Fine Validation Loss: 4.725, consits of 1.9759418964385986, 0.16944549977779388, 0.003125059651210904, 2.5763401985168457\n",
      "Epoch: 13, Fine Tune Loss: 11.628, consits of 3.7445271015167236, 5.330585956573486, 0.011827628128230572, 2.5407350063323975\n",
      "Epoch: 13, Fine Validation Loss: 4.736, consits of 1.9618148803710938, 0.22990228235721588, 0.003231965471059084, 2.5407350063323975\n",
      "Epoch: 14, Fine Tune Loss: 8.836, consits of 0.6253591179847717, 5.695478916168213, 0.00733716506510973, 2.507363796234131\n",
      "Epoch: 14, Fine Validation Loss: 4.709, consits of 2.0159857273101807, 0.18212099373340607, 0.0031093114521354437, 2.507363796234131\n",
      "Epoch: 15, Fine Tune Loss: 3.721, consits of 1.1258491277694702, 0.1132391020655632, 0.0035893325693905354, 2.4784095287323\n",
      "Epoch: 15, Fine Validation Loss: 4.626, consits of 1.9698717594146729, 0.1748589128255844, 0.003151560900732875, 2.4784095287323\n",
      "Epoch: 16, Fine Tune Loss: 11.923, consits of 3.796765089035034, 5.660948276519775, 0.011898500844836235, 2.453782796859741\n",
      "Epoch: 16, Fine Validation Loss: 4.631, consits of 1.9756321907043457, 0.19851796329021454, 0.0031789832282811403, 2.453782796859741\n",
      "Epoch: 17, Fine Tune Loss: 7.013, consits of 3.930194854736328, 0.6417989730834961, 0.0037521403282880783, 2.4370219707489014\n",
      "Epoch: 17, Fine Validation Loss: 4.645, consits of 2.0430195331573486, 0.1623965948820114, 0.003056903835386038, 2.4370219707489014\n",
      "Epoch: 18, Fine Tune Loss: 8.333, consits of 1.5451023578643799, 4.348419189453125, 0.012616231106221676, 2.426426649093628\n",
      "Epoch: 18, Fine Validation Loss: 4.587, consits of 1.9591777324676514, 0.19859667122364044, 0.003191279945895076, 2.426426649093628\n",
      "Epoch: 19, Fine Tune Loss: 6.926, consits of 3.9838778972625732, 0.524906575679779, 0.004501762334257364, 2.4129319190979004\n",
      "Epoch: 19, Fine Validation Loss: 4.578, consits of 1.9764580726623535, 0.18523196876049042, 0.003128309966996312, 2.4129319190979004\n",
      "Epoch: 20, Fine Tune Loss: 6.791, consits of 0.7512813210487366, 3.628915548324585, 0.012133221141994, 2.398876905441284\n",
      "Epoch: 20, Fine Validation Loss: 4.681, consits of 2.0736355781555176, 0.20533387362957, 0.003139077452942729, 2.398876905441284\n",
      "Epoch: 21, Fine Tune Loss: 12.647, consits of 5.135943412780762, 5.109593868255615, 0.009598572738468647, 2.3916118144989014\n",
      "Epoch: 21, Fine Validation Loss: 4.607, consits of 1.9620685577392578, 0.24978260695934296, 0.003345710691064596, 2.3916118144989014\n",
      "Epoch: 22, Fine Tune Loss: 10.203, consits of 1.2045315504074097, 6.599905490875244, 0.01288812980055809, 2.3852806091308594\n",
      "Epoch: 22, Fine Validation Loss: 4.6, consits of 2.006139039993286, 0.2052641659975052, 0.003258930053561926, 2.3852806091308594\n",
      "Epoch: 23, Fine Tune Loss: 6.379, consits of 3.935896396636963, 0.06708584725856781, 0.003353762673214078, 2.3727304935455322\n",
      "Epoch: 23, Fine Validation Loss: 4.531, consits of 1.978865146636963, 0.1760219782590866, 0.0030497307889163494, 2.3727304935455322\n",
      "Epoch: 24, Fine Tune Loss: 6.175, consits of 3.6609745025634766, 0.1395246535539627, 0.004513631109148264, 2.3700976371765137\n",
      "Epoch: 24, Fine Validation Loss: 4.524, consits of 1.9878301620483398, 0.16269858181476593, 0.0030391989275813103, 2.3700976371765137\n",
      "Epoch: 25, Fine Tune Loss: 9.854, consits of 6.9197869300842285, 0.5522356629371643, 0.0058537074364721775, 2.376513719558716\n",
      "Epoch: 25, Fine Validation Loss: 4.552, consits of 1.9933253526687622, 0.17906886339187622, 0.0031307546887546778, 2.376513719558716\n",
      "Epoch: 26, Fine Tune Loss: 4.584, consits of 2.1588633060455322, 0.05620687082409859, 0.0029418766498565674, 2.3656890392303467\n",
      "Epoch: 26, Fine Validation Loss: 4.544, consits of 1.9729132652282715, 0.20243050158023834, 0.00316483317874372, 2.3656890392303467\n",
      "Epoch: 27, Fine Tune Loss: 4.041, consits of 1.3340511322021484, 0.33887597918510437, 0.006233836058527231, 2.361562728881836\n",
      "Epoch: 27, Fine Validation Loss: 4.518, consits of 1.9859808683395386, 0.16720344126224518, 0.0030693619046360254, 2.361562728881836\n",
      "Epoch: 28, Fine Tune Loss: 8.32, consits of 5.741478443145752, 0.20881342887878418, 0.0043562958016991615, 2.3656463623046875\n",
      "Epoch: 28, Fine Validation Loss: 4.526, consits of 1.9827852249145508, 0.17435194551944733, 0.0031097056344151497, 2.3656463623046875\n",
      "Epoch: 29, Fine Tune Loss: 6.015, consits of 3.5927319526672363, 0.055510520935058594, 0.003446378279477358, 2.3637642860412598\n",
      "Epoch: 29, Fine Validation Loss: 4.522, consits of 1.9671471118927002, 0.18821053206920624, 0.003175679361447692, 2.3637642860412598\n",
      "Epoch: 30, Fine Tune Loss: 3.807, consits of 1.0750311613082886, 0.36181655526161194, 0.006816699169576168, 2.3632450103759766\n",
      "Epoch: 30, Fine Validation Loss: 4.591, consits of 1.986345887184143, 0.23777057230472565, 0.00318994396366179, 2.3632450103759766\n",
      "Epoch: 31, Fine Tune Loss: 5.611, consits of 3.078803062438965, 0.16721783578395844, 0.005020597483962774, 2.359673023223877\n",
      "Epoch: 31, Fine Validation Loss: 4.603, consits of 2.0354533195495605, 0.20521438121795654, 0.00303348945453763, 2.359673023223877\n",
      "Epoch: 32, Fine Tune Loss: 8.399, consits of 1.2455339431762695, 4.784675598144531, 0.013024772517383099, 2.355344295501709\n",
      "Epoch: 32, Fine Validation Loss: 4.516, consits of 1.981438159942627, 0.1761627346277237, 0.003113748272880912, 2.355344295501709\n",
      "Epoch: 33, Fine Tune Loss: 3.402, consits of 0.5449830293655396, 0.49168601632118225, 0.005852525122463703, 2.3597915172576904\n",
      "Epoch: 33, Fine Validation Loss: 4.542, consits of 1.9795154333114624, 0.19938500225543976, 0.0031827932689338923, 2.3597915172576904\n",
      "Epoch: 34, Fine Tune Loss: 12.525, consits of 9.838194847106934, 0.32800325751304626, 0.004965738859027624, 2.353872537612915\n",
      "Epoch: 34, Fine Validation Loss: 4.545, consits of 1.9680417776107788, 0.2194409817457199, 0.003170350566506386, 2.353872537612915\n",
      "Epoch: 35, Fine Tune Loss: 4.605, consits of 2.1236510276794434, 0.12322410941123962, 0.0029491973109543324, 2.355560779571533\n",
      "Epoch: 35, Fine Validation Loss: 4.71, consits of 2.1579489707946777, 0.19371075928211212, 0.003067466663196683, 2.355560779571533\n",
      "Epoch: 36, Fine Tune Loss: 7.959, consits of 5.5455002784729, 0.05971871316432953, 0.003135938197374344, 2.3507869243621826\n",
      "Epoch: 36, Fine Validation Loss: 4.495, consits of 1.9907491207122803, 0.15060530602931976, 0.0030088559724390507, 2.3507869243621826\n",
      "Epoch: 37, Fine Tune Loss: 10.7, consits of 7.611674785614014, 0.7301440834999084, 0.005143682938069105, 2.352618932723999\n",
      "Epoch: 37, Fine Validation Loss: 4.501, consits of 1.9861966371536255, 0.15954627096652985, 0.0030879878904670477, 2.352618932723999\n",
      "Epoch: 38, Fine Tune Loss: 5.845, consits of 3.2657008171081543, 0.22266680002212524, 0.005373056977987289, 2.351742744445801\n",
      "Epoch: 38, Fine Validation Loss: 4.532, consits of 2.011923313140869, 0.16534273326396942, 0.0030998261645436287, 2.351742744445801\n",
      "Epoch: 39, Fine Tune Loss: 12.845, consits of 5.670884609222412, 4.810093402862549, 0.01095195859670639, 2.353187322616577\n",
      "Epoch: 39, Fine Validation Loss: 4.519, consits of 1.9893441200256348, 0.1735672950744629, 0.003133901860564947, 2.353187322616577\n",
      "Epoch: 40, Fine Tune Loss: 4.439, consits of 1.9972553253173828, 0.08505301922559738, 0.0034221503883600235, 2.353137969970703\n",
      "Epoch: 40, Fine Validation Loss: 4.507, consits of 1.9839636087417603, 0.16690874099731445, 0.003067065728828311, 2.353137969970703\n",
      "Epoch: 41, Fine Tune Loss: 9.243, consits of 2.0783891677856445, 4.801236152648926, 0.012652816250920296, 2.3502464294433594\n",
      "Epoch: 41, Fine Validation Loss: 4.487, consits of 1.9840260744094849, 0.1492876559495926, 0.0031133939046412706, 2.3502464294433594\n",
      "Epoch: 42, Fine Tune Loss: 11.138, consits of 4.330149173736572, 4.447170257568359, 0.011896491050720215, 2.3483259677886963\n",
      "Epoch: 42, Fine Validation Loss: 4.525, consits of 1.9696166515350342, 0.20392930507659912, 0.0031637451611459255, 2.3483259677886963\n",
      "Epoch: 43, Fine Tune Loss: 11.466, consits of 2.616701364517212, 6.4880242347717285, 0.011513343080878258, 2.349287271499634\n",
      "Epoch: 43, Fine Validation Loss: 4.499, consits of 1.9773213863372803, 0.1690302938222885, 0.003103089751675725, 2.349287271499634\n",
      "Epoch: 44, Fine Tune Loss: 3.398, consits of 0.9425183534622192, 0.09882581979036331, 0.006805439479649067, 2.349933385848999\n",
      "Epoch: 44, Fine Validation Loss: 4.555, consits of 1.994786024093628, 0.20666682720184326, 0.0031309633050113916, 2.349933385848999\n",
      "Epoch: 45, Fine Tune Loss: 5.943, consits of 3.3210418224334717, 0.2673130929470062, 0.006015778053551912, 2.348609685897827\n",
      "Epoch: 45, Fine Validation Loss: 4.505, consits of 1.9960827827453613, 0.15760917961597443, 0.003020390635356307, 2.348609685897827\n",
      "Epoch: 46, Fine Tune Loss: 12.781, consits of 9.530954360961914, 0.8992652893066406, 0.005749906413257122, 2.344576358795166\n",
      "Epoch: 46, Fine Validation Loss: 4.486, consits of 1.9910284280776978, 0.14768283069133759, 0.003067650832235813, 2.344576358795166\n",
      "Epoch: 47, Fine Tune Loss: 5.422, consits of 2.9691624641418457, 0.10199915617704391, 0.0029068735893815756, 2.3479197025299072\n",
      "Epoch: 47, Fine Validation Loss: 4.525, consits of 1.9919970035552979, 0.18226225674152374, 0.0031098201870918274, 2.3479197025299072\n",
      "Epoch: 48, Fine Tune Loss: 11.26, consits of 1.4991424083709717, 7.402272701263428, 0.01307422574609518, 2.3458361625671387\n",
      "Epoch: 48, Fine Validation Loss: 4.51, consits of 1.982696533203125, 0.17805342376232147, 0.003048272104933858, 2.3458361625671387\n",
      "Epoch: 49, Fine Tune Loss: 8.158, consits of 5.4451704025268555, 0.3624309003353119, 0.004576337058097124, 2.3456876277923584\n",
      "Epoch: 49, Fine Validation Loss: 4.507, consits of 1.988722801208496, 0.16942809522151947, 0.003063524840399623, 2.3456876277923584\n"
     ]
    }
   ],
   "metadata": {}
  },
  {
   "cell_type": "code",
   "execution_count": 11,
   "source": [
    "#from TSInterpret.InterpretabilityModels.TSInsight.TSInsightPYT import TSInsightPYT\n",
    "#exp_model=TSInsightPYT(model,(shape[-2],shape[-1]),train_loader, test_loader, autoencoder='cnn')"
   ],
   "outputs": [],
   "metadata": {}
  },
  {
   "cell_type": "code",
   "execution_count": 12,
   "source": [
    "# save model \n",
    "#torch.save(exp_model.autoencoder.state_dict(), f'../../ClassificationModels/models/{dataset}/TSInsightAutoencoder_cnn')"
   ],
   "outputs": [],
   "metadata": {}
  },
  {
   "cell_type": "code",
   "execution_count": 13,
   "source": [
    "item=X_val[0].reshape(1,1,-1)\n",
    "shape=item.shape\n",
    "_item=  torch.from_numpy(item).float()\n",
    "model.eval()\n",
    "#y_target= model(_item).detach().numpy()\n",
    "y_target = torch.nn.functional.softmax(model(_item)).detach().numpy()"
   ],
   "outputs": [],
   "metadata": {}
  },
  {
   "cell_type": "code",
   "execution_count": 14,
   "source": [
    "exp=exp_model.explain(item)"
   ],
   "outputs": [],
   "metadata": {}
  },
  {
   "cell_type": "code",
   "execution_count": 15,
   "source": [
    "np.count_nonzero(item.flatten()-exp.flatten())"
   ],
   "outputs": [
    {
     "output_type": "execute_result",
     "data": {
      "text/plain": [
       "96"
      ]
     },
     "metadata": {},
     "execution_count": 15
    }
   ],
   "metadata": {}
  },
  {
   "cell_type": "code",
   "execution_count": 16,
   "source": [
    "exp.shape"
   ],
   "outputs": [
    {
     "output_type": "execute_result",
     "data": {
      "text/plain": [
       "(1, 1, 96)"
      ]
     },
     "metadata": {},
     "execution_count": 16
    }
   ],
   "metadata": {}
  },
  {
   "cell_type": "code",
   "execution_count": 17,
   "source": [
    "item.shape"
   ],
   "outputs": [
    {
     "output_type": "execute_result",
     "data": {
      "text/plain": [
       "(1, 1, 96)"
      ]
     },
     "metadata": {},
     "execution_count": 17
    }
   ],
   "metadata": {}
  },
  {
   "cell_type": "code",
   "execution_count": 18,
   "source": [
    "#TODO scale og plot\n",
    "exp_model.plot(item, exp,all_in_one=False)"
   ],
   "outputs": [
    {
     "output_type": "stream",
     "name": "stdout",
     "text": [
      "(1, 1, 96)\n",
      "(1, 1, 96)\n"
     ]
    },
    {
     "output_type": "display_data",
     "data": {
      "image/png": "[encoded data removed]",
      "text/plain": [
       "<Figure size 432x288 with 4 Axes>"
      ]
     },
     "metadata": {
      "needs_background": "light"
     }
    }
   ],
   "metadata": {}
  },
  {
   "cell_type": "code",
   "execution_count": 19,
   "source": [
    "exp_model.plot(item, exp)"
   ],
   "outputs": [
    {
     "output_type": "stream",
     "name": "stdout",
     "text": [
      "(1, 1, 96)\n",
      "(1, 1, 96)\n"
     ]
    },
    {
     "output_type": "display_data",
     "data": {
      "image/png": "[encoded data removed]",
      "text/plain": [
       "<Figure size 432x288 with 1 Axes>"
      ]
     },
     "metadata": {
      "needs_background": "light"
     }
    }
   ],
   "metadata": {}
  },
  {
   "cell_type": "code",
   "execution_count": 20,
   "source": [
    "sns.lineplot(x=range(0,len(exp.reshape(-1))), y=exp.flatten(), color='black')"
   ],
   "outputs": [
    {
     "output_type": "execute_result",
     "data": {
      "text/plain": [
       "<AxesSubplot:>"
      ]
     },
     "metadata": {},
     "execution_count": 20
    },
    {
     "output_type": "display_data",
     "data": {
      "image/png": "[encoded data removed]",
      "text/plain": [
       "<Figure size 432x288 with 1 Axes>"
      ]
     },
     "metadata": {
      "needs_background": "light"
     }
    }
   ],
   "metadata": {}
  }
 ],
 "metadata": {
  "orig_nbformat": 4,
  "language_info": {
   "name": "python",
   "version": "3.7.5",
   "mimetype": "text/x-python",
   "codemirror_mode": {
    "name": "ipython",
    "version": 3
   },
   "pygments_lexer": "ipython3",
   "nbconvert_exporter": "python",
   "file_extension": ".py"
  },
  "kernelspec": {
   "name": "python3",
   "display_name": "Python 3.7.5 64-bit ('TSInterpret-NXJYnQDU': pipenv)"
  },
  "interpreter": {
   "hash": "16db99a3fba429d86cb96b96f3cee6d3141a37b91b1d019974802969710b6701"
  }
 },
 "nbformat": 4,
 "nbformat_minor": 2
}