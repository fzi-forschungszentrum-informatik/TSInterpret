{
 "cells": [
  {
   "cell_type": "code",
   "execution_count": 1,
   "source": [
    "import sklearn\n",
    "import pickle\n",
    "import numpy as np \n",
    "import torch \n",
    "from ClassificationModels.CNN_T import ResNetBaseline, get_all_preds, fit, UCRDataset\n",
    "import matplotlib.pyplot as plt\n",
    "import seaborn as sns\n",
    "from sklearn.metrics import confusion_matrix, accuracy_score, classification_report\n",
    "import pandas as pd\n",
    "from tslearn.datasets import UCR_UEA_datasets\n",
    "import os "
   ],
   "outputs": [],
   "metadata": {}
  },
  {
   "cell_type": "markdown",
   "source": [
    "# Parameters"
   ],
   "metadata": {}
  },
  {
   "cell_type": "code",
   "execution_count": 2,
   "source": [
    "#TODO Test and show results on Forest Cover Dataset \n",
    "dataset='ElectricDevices'"
   ],
   "outputs": [],
   "metadata": {}
  },
  {
   "cell_type": "markdown",
   "source": [
    "# Load Data"
   ],
   "metadata": {}
  },
  {
   "cell_type": "code",
   "execution_count": 3,
   "source": [
    "# Train Test Val Split\n",
    "train_x,train_y, test_x, test_y=UCR_UEA_datasets().load_dataset(dataset)\n",
    "train_x = train_x.reshape(-1,1,  train_x.shape[-2])\n",
    "test_x = test_x.reshape(-1,1,  test_x.shape[-2])\n"
   ],
   "outputs": [],
   "metadata": {}
  },
  {
   "cell_type": "code",
   "execution_count": 4,
   "source": [
    "print(test_y.shape)"
   ],
   "outputs": [
    {
     "output_type": "stream",
     "name": "stdout",
     "text": [
      "(7711,)\n"
     ]
    }
   ],
   "metadata": {}
  },
  {
   "cell_type": "code",
   "execution_count": 5,
   "source": [
    "enc1=pickle.load(open(f'../../ClassificationModels/models/{dataset}/OneHotEncoder.pkl','rb'))\n",
    "train_y=enc1.transform(train_y.reshape(-1,1))\n",
    "test_y=enc1.transform(test_y.reshape(-1,1))"
   ],
   "outputs": [
    {
     "output_type": "stream",
     "name": "stderr",
     "text": [
      "/home/jacqueline/.local/share/virtualenvs/TSInterpret-NXJYnQDU/lib/python3.7/site-packages/sklearn/base.py:338: UserWarning: Trying to unpickle estimator OneHotEncoder from version 0.24.2 when using version 1.0.2. This might lead to breaking code or invalid results. Use at your own risk. For more info please refer to:\n",
      "https://scikit-learn.org/stable/modules/model_persistence.html#security-maintainability-limitations\n",
      "  UserWarning,\n"
     ]
    }
   ],
   "metadata": {}
  },
  {
   "cell_type": "code",
   "execution_count": 6,
   "source": [
    "full_x= np.vstack([train_x, test_x])\n",
    "full_y= np.vstack([train_y, test_y])"
   ],
   "outputs": [],
   "metadata": {}
  },
  {
   "cell_type": "code",
   "execution_count": 7,
   "source": [
    "# New Train/ Test Split with 0.33\n",
    "from sklearn.model_selection import train_test_split\n",
    "X_train, X_test, y_train, y_test = train_test_split( full_x, full_y, test_size=0.33, random_state=42)\n",
    "X_train, X_val, y_train, y_val = train_test_split( X_train, y_train, test_size=0.33, random_state=42)\n",
    "#Save Files\n",
    "np.save('X_train.npy',X_train)\n",
    "np.save('X_test.npy',X_test)\n",
    "np.save('X_val.npy',X_val)\n",
    "np.save('y_train.npy',y_train)\n",
    "np.save('y_test.npy',y_test)\n",
    "np.save('y_val.npy',y_val)"
   ],
   "outputs": [],
   "metadata": {}
  },
  {
   "cell_type": "markdown",
   "source": [
    "# Model Training"
   ],
   "metadata": {}
  },
  {
   "cell_type": "code",
   "execution_count": 8,
   "source": [
    "#TODO Load Data and make this new\n",
    "n_pred_classes =train_y.shape[1]\n",
    "train_dataset = UCRDataset(X_train.astype(np.float64),y_train.astype(np.int64))\n",
    "test_dataset = UCRDataset(X_test.astype(np.float64),y_test.astype(np.int64))\n",
    "val_dataset = UCRDataset(X_val.astype(np.float64),y_val.astype(np.int64))\n",
    "train_loader = torch.utils.data.DataLoader(train_dataset,batch_size=256,shuffle=True)\n",
    "test_loader = torch.utils.data.DataLoader(test_dataset,batch_size=256,shuffle=False)\n",
    "val_loader = torch.utils.data.DataLoader(val_dataset,batch_size=1,shuffle=False)\n",
    "model = ResNetBaseline(in_channels=1, num_pred_classes=n_pred_classes)\n",
    "model.load_state_dict(torch.load(f'../../ClassificationModels/models/{dataset}/ResNet'))\n",
    "model.eval()"
   ],
   "outputs": [
    {
     "output_type": "execute_result",
     "data": {
      "text/plain": [
       "ResNetBaseline(\n",
       "  (layers): Sequential(\n",
       "    (0): ResNetBlock(\n",
       "      (layers): Sequential(\n",
       "        (0): ConvBlock(\n",
       "          (layers): Sequential(\n",
       "            (0): Conv1dSamePadding(1, 64, kernel_size=(8,), stride=(1,))\n",
       "            (1): BatchNorm1d(64, eps=1e-05, momentum=0.1, affine=True, track_running_stats=True)\n",
       "            (2): ReLU()\n",
       "          )\n",
       "        )\n",
       "        (1): ConvBlock(\n",
       "          (layers): Sequential(\n",
       "            (0): Conv1dSamePadding(64, 64, kernel_size=(5,), stride=(1,))\n",
       "            (1): BatchNorm1d(64, eps=1e-05, momentum=0.1, affine=True, track_running_stats=True)\n",
       "            (2): ReLU()\n",
       "          )\n",
       "        )\n",
       "        (2): ConvBlock(\n",
       "          (layers): Sequential(\n",
       "            (0): Conv1dSamePadding(64, 64, kernel_size=(3,), stride=(1,))\n",
       "            (1): BatchNorm1d(64, eps=1e-05, momentum=0.1, affine=True, track_running_stats=True)\n",
       "            (2): ReLU()\n",
       "          )\n",
       "        )\n",
       "      )\n",
       "      (residual): Sequential(\n",
       "        (0): Conv1dSamePadding(1, 64, kernel_size=(1,), stride=(1,))\n",
       "        (1): BatchNorm1d(64, eps=1e-05, momentum=0.1, affine=True, track_running_stats=True)\n",
       "      )\n",
       "    )\n",
       "    (1): ResNetBlock(\n",
       "      (layers): Sequential(\n",
       "        (0): ConvBlock(\n",
       "          (layers): Sequential(\n",
       "            (0): Conv1dSamePadding(64, 128, kernel_size=(8,), stride=(1,))\n",
       "            (1): BatchNorm1d(128, eps=1e-05, momentum=0.1, affine=True, track_running_stats=True)\n",
       "            (2): ReLU()\n",
       "          )\n",
       "        )\n",
       "        (1): ConvBlock(\n",
       "          (layers): Sequential(\n",
       "            (0): Conv1dSamePadding(128, 128, kernel_size=(5,), stride=(1,))\n",
       "            (1): BatchNorm1d(128, eps=1e-05, momentum=0.1, affine=True, track_running_stats=True)\n",
       "            (2): ReLU()\n",
       "          )\n",
       "        )\n",
       "        (2): ConvBlock(\n",
       "          (layers): Sequential(\n",
       "            (0): Conv1dSamePadding(128, 128, kernel_size=(3,), stride=(1,))\n",
       "            (1): BatchNorm1d(128, eps=1e-05, momentum=0.1, affine=True, track_running_stats=True)\n",
       "            (2): ReLU()\n",
       "          )\n",
       "        )\n",
       "      )\n",
       "      (residual): Sequential(\n",
       "        (0): Conv1dSamePadding(64, 128, kernel_size=(1,), stride=(1,))\n",
       "        (1): BatchNorm1d(128, eps=1e-05, momentum=0.1, affine=True, track_running_stats=True)\n",
       "      )\n",
       "    )\n",
       "    (2): ResNetBlock(\n",
       "      (layers): Sequential(\n",
       "        (0): ConvBlock(\n",
       "          (layers): Sequential(\n",
       "            (0): Conv1dSamePadding(128, 128, kernel_size=(8,), stride=(1,))\n",
       "            (1): BatchNorm1d(128, eps=1e-05, momentum=0.1, affine=True, track_running_stats=True)\n",
       "            (2): ReLU()\n",
       "          )\n",
       "        )\n",
       "        (1): ConvBlock(\n",
       "          (layers): Sequential(\n",
       "            (0): Conv1dSamePadding(128, 128, kernel_size=(5,), stride=(1,))\n",
       "            (1): BatchNorm1d(128, eps=1e-05, momentum=0.1, affine=True, track_running_stats=True)\n",
       "            (2): ReLU()\n",
       "          )\n",
       "        )\n",
       "        (2): ConvBlock(\n",
       "          (layers): Sequential(\n",
       "            (0): Conv1dSamePadding(128, 128, kernel_size=(3,), stride=(1,))\n",
       "            (1): BatchNorm1d(128, eps=1e-05, momentum=0.1, affine=True, track_running_stats=True)\n",
       "            (2): ReLU()\n",
       "          )\n",
       "        )\n",
       "      )\n",
       "    )\n",
       "  )\n",
       "  (final): Linear(in_features=128, out_features=7, bias=True)\n",
       ")"
      ]
     },
     "metadata": {},
     "execution_count": 8
    }
   ],
   "metadata": {}
  },
  {
   "cell_type": "code",
   "execution_count": 9,
   "source": [
    "#from TSInterpret.InterpretabilityModels.TSInsight.TSInsightPYT import TSInsightPYT\n",
    "#exp_model=TSInsightPYT(model,(train_x.shape[-2],train_x.shape[-1]),(train_x,train_y), (test_x,test_y), autoencoder='cnn')\n"
   ],
   "outputs": [],
   "metadata": {}
  },
  {
   "cell_type": "markdown",
   "source": [
    "# Explanation Algo"
   ],
   "metadata": {}
  },
  {
   "cell_type": "code",
   "execution_count": 10,
   "source": [
    "from TSInterpret.InterpretabilityModels.TSInsight.CNN_PYT import ConvAutoencoder\n",
    "from TSInterpret.InterpretabilityModels.TSInsight.TSInsightPYT import TSInsightPYT\n",
    "#TODO make model decision according to val !\n",
    "autoencoder= ConvAutoencoder(1)\n",
    "autoencoder.load_state_dict(torch.load(f'../../ClassificationModels/models/{dataset}/TSInsightAutoencoder_cnn'))\n",
    "exp_model=TSInsightPYT(model,(train_x.shape[-2],train_x.shape[-1]),(train_x,train_y), (test_x,test_y), autoencoder=autoencoder)"
   ],
   "outputs": [
    {
     "output_type": "stream",
     "name": "stderr",
     "text": [
      "2022-08-02 08:25:40.975343: W tensorflow/stream_executor/platform/default/dso_loader.cc:64] Could not load dynamic library 'libcudart.so.11.0'; dlerror: libcudart.so.11.0: cannot open shared object file: No such file or directory\n",
      "2022-08-02 08:25:40.975365: I tensorflow/stream_executor/cuda/cudart_stub.cc:29] Ignore above cudart dlerror if you do not have a GPU set up on your machine.\n"
     ]
    },
    {
     "output_type": "stream",
     "name": "stdout",
     "text": [
      "INFO - Provided Datasets are Tuples. Create a Default DataLoader.\n",
      "Epoch: 0, Fine Tune Loss: 6.594, consits of 1.4040440320968628, 0.0240909606218338, 0.0075408886186778545, 5.158642292022705\n",
      "Epoch: 0, Fine Validation Loss: 7.709, consits of 2.5423479080200195, 0.006482063326984644, 0.0017202920280396938, 5.158642292022705\n",
      "Epoch: 1, Fine Tune Loss: 8.814, consits of 1.0529383420944214, 3.121140241622925, 0.012139838188886642, 4.627415180206299\n",
      "Epoch: 1, Fine Validation Loss: 7.082, consits of 2.195094585418701, 0.25543951988220215, 0.003608448663726449, 4.627415180206299\n",
      "Epoch: 2, Fine Tune Loss: 11.343, consits of 3.1146554946899414, 3.979599952697754, 0.011646662838757038, 4.23690938949585\n",
      "Epoch: 2, Fine Validation Loss: 6.597, consits of 2.134225845336914, 0.22170864045619965, 0.003871689084917307, 4.23690938949585\n",
      "Epoch: 3, Fine Tune Loss: 6.419, consits of 2.2044029235839844, 0.28785112500190735, 0.003992259036749601, 3.923058032989502\n",
      "Epoch: 3, Fine Validation Loss: 6.452, consits of 2.224501132965088, 0.30086201429367065, 0.0039713140577077866, 3.923058032989502\n",
      "Epoch: 4, Fine Tune Loss: 8.091, consits of 3.797438621520996, 0.6170608401298523, 0.0062232110649347305, 3.6705703735351562\n",
      "Epoch: 4, Fine Validation Loss: 6.12, consits of 2.1764867305755615, 0.2685498297214508, 0.004008287098258734, 3.6705703735351562\n",
      "Epoch: 5, Fine Tune Loss: 12.484, consits of 8.500296592712402, 0.5202581286430359, 0.006911059375852346, 3.4568734169006348\n",
      "Epoch: 5, Fine Validation Loss: 5.832, consits of 2.1552300453186035, 0.21631520986557007, 0.0038711298257112503, 3.4568734169006348\n",
      "Epoch: 6, Fine Tune Loss: 7.811, consits of 4.327843189239502, 0.18917585909366608, 0.004690701607614756, 3.28922963142395\n",
      "Epoch: 6, Fine Validation Loss: 5.848, consits of 2.2332682609558105, 0.32117393612861633, 0.004187591373920441, 3.28922963142395\n",
      "Epoch: 7, Fine Tune Loss: 7.838, consits of 4.508439064025879, 0.185135617852211, 0.003827502019703388, 3.1410605907440186\n",
      "Epoch: 7, Fine Validation Loss: 5.567, consits of 2.196065902709961, 0.22649888694286346, 0.003815288422629237, 3.1410605907440186\n",
      "Epoch: 8, Fine Tune Loss: 6.406, consits of 2.9686026573181152, 0.40904688835144043, 0.005071286112070084, 3.0233681201934814\n",
      "Epoch: 8, Fine Validation Loss: 5.506, consits of 2.2105846405029297, 0.26798105239868164, 0.00400243466719985, 3.0233681201934814\n",
      "Epoch: 9, Fine Tune Loss: 5.143, consits of 2.0664284229278564, 0.14705581963062286, 0.005345176439732313, 2.92455792427063\n",
      "Epoch: 9, Fine Validation Loss: 5.348, consits of 2.19621205329895, 0.22329191863536835, 0.0038668005727231503, 2.92455792427063\n",
      "Epoch: 10, Fine Tune Loss: 7.378, consits of 2.123671054840088, 2.4123384952545166, 0.010117880068719387, 2.83235239982605\n",
      "Epoch: 10, Fine Validation Loss: 5.299, consits of 2.2078475952148438, 0.25519445538520813, 0.003893405431881547, 2.83235239982605\n",
      "Epoch: 11, Fine Tune Loss: 6.408, consits of 3.1393637657165527, 0.4989328682422638, 0.005403527058660984, 2.764630079269409\n",
      "Epoch: 11, Fine Validation Loss: 5.125, consits of 2.167485237121582, 0.1894414871931076, 0.0037327371537685394, 2.764630079269409\n",
      "Epoch: 12, Fine Tune Loss: 3.923, consits of 0.6652471423149109, 0.5483824610710144, 0.005831380840390921, 2.7036025524139404\n",
      "Epoch: 12, Fine Validation Loss: 5.109, consits of 2.1862707138061523, 0.21531446278095245, 0.0038347793743014336, 2.7036025524139404\n",
      "Epoch: 13, Fine Tune Loss: 4.875, consits of 2.020280599594116, 0.19329319894313812, 0.00434691458940506, 2.6566145420074463\n",
      "Epoch: 13, Fine Validation Loss: 5.105, consits of 2.197300434112549, 0.24670876562595367, 0.003992860671132803, 2.6566145420074463\n",
      "Epoch: 14, Fine Tune Loss: 8.579, consits of 4.706647872924805, 1.2523456811904907, 0.007197607308626175, 2.6127045154571533\n",
      "Epoch: 14, Fine Validation Loss: 5.005, consits of 2.162553548812866, 0.22586865723133087, 0.00391567824408412, 2.6127045154571533\n",
      "Epoch: 15, Fine Tune Loss: 7.159, consits of 3.935506820678711, 0.6416792869567871, 0.005045493599027395, 2.5765347480773926\n",
      "Epoch: 15, Fine Validation Loss: 5.071, consits of 2.2011401653289795, 0.28929585218429565, 0.004031945485621691, 2.5765347480773926\n",
      "Epoch: 16, Fine Tune Loss: 6.912, consits of 0.5308977961540222, 3.832110643386841, 0.011925785802304745, 2.537170171737671\n",
      "Epoch: 16, Fine Validation Loss: 4.974, consits of 2.188300609588623, 0.24448741972446442, 0.003947353456169367, 2.537170171737671\n",
      "Epoch: 17, Fine Tune Loss: 4.696, consits of 1.97178316116333, 0.21458101272583008, 0.00461482023820281, 2.5051257610321045\n",
      "Epoch: 17, Fine Validation Loss: 4.96, consits of 2.1955513954162598, 0.25545841455459595, 0.003983094356954098, 2.5051257610321045\n",
      "Epoch: 18, Fine Tune Loss: 5.002, consits of 2.192512035369873, 0.31986990571022034, 0.004143029451370239, 2.4857687950134277\n",
      "Epoch: 18, Fine Validation Loss: 5.012, consits of 2.2152042388916016, 0.30651167035102844, 0.004089637193828821, 2.4857687950134277\n",
      "Epoch: 19, Fine Tune Loss: 7.709, consits of 1.9991540908813477, 3.2325875759124756, 0.01039551105350256, 2.467181921005249\n",
      "Epoch: 19, Fine Validation Loss: 4.919, consits of 2.187272071838379, 0.2606857120990753, 0.003936147782951593, 2.467181921005249\n",
      "Epoch: 20, Fine Tune Loss: 6.111, consits of 3.4210331439971924, 0.23423074185848236, 0.007935740053653717, 2.448239803314209\n",
      "Epoch: 20, Fine Validation Loss: 4.892, consits of 2.189985990524292, 0.24983204901218414, 0.0038803236093372107, 2.448239803314209\n",
      "Epoch: 21, Fine Tune Loss: 3.488, consits of 0.9343904256820679, 0.11061201244592667, 0.006866626441478729, 2.4356493949890137\n",
      "Epoch: 21, Fine Validation Loss: 4.758, consits of 2.116075277328491, 0.20236603915691376, 0.0037512953858822584, 2.4356493949890137\n",
      "Epoch: 22, Fine Tune Loss: 3.903, consits of 0.2386469841003418, 1.2352426052093506, 0.0074309431947767735, 2.421811103820801\n",
      "Epoch: 22, Fine Validation Loss: 4.792, consits of 2.149106979370117, 0.2172810584306717, 0.0038165540900081396, 2.421811103820801\n",
      "Epoch: 23, Fine Tune Loss: 9.086, consits of 1.8570295572280884, 4.805793285369873, 0.012117356061935425, 2.4115426540374756\n",
      "Epoch: 23, Fine Validation Loss: 4.789, consits of 2.159359931945801, 0.214167520403862, 0.003870951710268855, 2.4115426540374756\n",
      "Epoch: 24, Fine Tune Loss: 10.586, consits of 6.4691162109375, 1.7016563415527344, 0.008168783038854599, 2.4073736667633057\n",
      "Epoch: 24, Fine Validation Loss: 4.927, consits of 2.210486650466919, 0.30557939410209656, 0.004049108363687992, 2.4073736667633057\n",
      "Epoch: 25, Fine Tune Loss: 5.111, consits of 0.6981170177459717, 2.0071394443511963, 0.0078043448738753796, 2.3975424766540527\n",
      "Epoch: 25, Fine Validation Loss: 4.811, consits of 2.1692562103271484, 0.24023659527301788, 0.0039035556837916374, 2.3975424766540527\n",
      "Epoch: 26, Fine Tune Loss: 3.931, consits of 1.0885324478149414, 0.44204702973365784, 0.009318406693637371, 2.3913893699645996\n",
      "Epoch: 26, Fine Validation Loss: 4.768, consits of 2.1496706008911133, 0.22266878187656403, 0.003902158234268427, 2.3913893699645996\n",
      "Epoch: 27, Fine Tune Loss: 6.49, consits of 3.7791249752044678, 0.3204415440559387, 0.005560800898820162, 2.384577751159668\n",
      "Epoch: 27, Fine Validation Loss: 4.754, consits of 2.1352944374084473, 0.23013122379779816, 0.003921263385564089, 2.384577751159668\n",
      "Epoch: 28, Fine Tune Loss: 3.941, consits of 0.9297745823860168, 0.6256290078163147, 0.0063093737699091434, 2.3790013790130615\n",
      "Epoch: 28, Fine Validation Loss: 4.93, consits of 2.2153327465057373, 0.33196723461151123, 0.004101453348994255, 2.3790013790130615\n",
      "Epoch: 29, Fine Tune Loss: 7.023, consits of 4.391364097595215, 0.25361713767051697, 0.004229914862662554, 2.3739216327667236\n",
      "Epoch: 29, Fine Validation Loss: 4.837, consits of 2.193340539932251, 0.26601770520210266, 0.003986116498708725, 2.3739216327667236\n",
      "Epoch: 30, Fine Tune Loss: 8.069, consits of 4.605858325958252, 1.0833536386489868, 0.007274572737514973, 2.372178316116333\n",
      "Epoch: 30, Fine Validation Loss: 4.764, consits of 2.143233299255371, 0.24428492784500122, 0.0038807212840765715, 2.372178316116333\n",
      "Epoch: 31, Fine Tune Loss: 10.481, consits of 7.503735065460205, 0.6048205494880676, 0.005931580904871225, 2.3662285804748535\n",
      "Epoch: 31, Fine Validation Loss: 4.762, consits of 2.153721809387207, 0.2384607046842575, 0.0038905153051018715, 2.3662285804748535\n",
      "Epoch: 32, Fine Tune Loss: 6.212, consits of 2.2609429359436035, 1.5846837759017944, 0.005572784226387739, 2.36116361618042\n",
      "Epoch: 32, Fine Validation Loss: 4.732, consits of 2.1302971839904785, 0.2363876849412918, 0.0038578780367970467, 2.36116361618042\n",
      "Epoch: 33, Fine Tune Loss: 10.455, consits of 5.821162223815918, 2.263458251953125, 0.009192879311740398, 2.3616230487823486\n",
      "Epoch: 33, Fine Validation Loss: 4.782, consits of 2.1722214221954346, 0.24464769661426544, 0.0039596110582351685, 2.3616230487823486\n",
      "Epoch: 34, Fine Tune Loss: 9.272, consits of 2.4710967540740967, 4.431526184082031, 0.012296122498810291, 2.357353448867798\n",
      "Epoch: 34, Fine Validation Loss: 4.715, consits of 2.1214001178741455, 0.23284851014614105, 0.0038367914967238903, 2.357353448867798\n",
      "Epoch: 35, Fine Tune Loss: 9.341, consits of 5.21481466293335, 1.7659908533096313, 0.008351500146090984, 2.352170705795288\n",
      "Epoch: 35, Fine Validation Loss: 4.756, consits of 2.1693270206451416, 0.2310485988855362, 0.0038217860274016857, 2.352170705795288\n",
      "Epoch: 36, Fine Tune Loss: 7.635, consits of 4.248715400695801, 1.0270339250564575, 0.0052246395498514175, 2.3541908264160156\n",
      "Epoch: 36, Fine Validation Loss: 4.696, consits of 2.115506649017334, 0.22250203788280487, 0.003823281032964587, 2.3541908264160156\n",
      "Epoch: 37, Fine Tune Loss: 6.514, consits of 3.3034541606903076, 0.8498669266700745, 0.007508039474487305, 2.3528430461883545\n",
      "Epoch: 37, Fine Validation Loss: 4.692, consits of 2.116666316986084, 0.21908658742904663, 0.003808156820014119, 2.3528430461883545\n",
      "Epoch: 38, Fine Tune Loss: 6.966, consits of 4.095577716827393, 0.5147279500961304, 0.004823088180273771, 2.3504951000213623\n",
      "Epoch: 38, Fine Validation Loss: 4.779, consits of 2.1766715049743652, 0.24787451326847076, 0.003911341540515423, 2.3504951000213623\n",
      "Epoch: 39, Fine Tune Loss: 4.588, consits of 2.0096096992492676, 0.22155718505382538, 0.005520717706531286, 2.351111650466919\n",
      "Epoch: 39, Fine Validation Loss: 4.848, consits of 2.186962842941284, 0.3062831461429596, 0.003979931119829416, 2.351111650466919\n",
      "Epoch: 40, Fine Tune Loss: 7.217, consits of 4.19481897354126, 0.6721460819244385, 0.005153506528586149, 2.3444888591766357\n",
      "Epoch: 40, Fine Validation Loss: 4.755, consits of 2.1728596687316895, 0.23354071378707886, 0.0037982147186994553, 2.3444888591766357\n",
      "Epoch: 41, Fine Tune Loss: 6.25, consits of 3.5246918201446533, 0.37545061111450195, 0.005142460577189922, 2.3443570137023926\n",
      "Epoch: 41, Fine Validation Loss: 4.666, consits of 2.1138110160827637, 0.20361648499965668, 0.0037877685390412807, 2.3443570137023926\n",
      "Epoch: 42, Fine Tune Loss: 3.495, consits of 0.8494167923927307, 0.29452136158943176, 0.0067641218192875385, 2.3446977138519287\n",
      "Epoch: 42, Fine Validation Loss: 4.695, consits of 2.133857250213623, 0.21301138401031494, 0.0037624884862452745, 2.3446977138519287\n",
      "Epoch: 43, Fine Tune Loss: 4.581, consits of 1.9351816177368164, 0.2958953082561493, 0.005677788518369198, 2.344277858734131\n",
      "Epoch: 43, Fine Validation Loss: 4.701, consits of 2.130422592163086, 0.2220776528120041, 0.0038148630410432816, 2.344277858734131\n",
      "Epoch: 44, Fine Tune Loss: 8.962, consits of 6.401785373687744, 0.21113359928131104, 0.005495007149875164, 2.344081401824951\n",
      "Epoch: 44, Fine Validation Loss: 4.779, consits of 2.1717123985290527, 0.25928995013237, 0.0038704480975866318, 2.344081401824951\n",
      "Epoch: 45, Fine Tune Loss: 5.688, consits of 0.4745057225227356, 2.860269546508789, 0.005180441774427891, 2.347676992416382\n",
      "Epoch: 45, Fine Validation Loss: 4.677, consits of 2.122988700866699, 0.20218805968761444, 0.0037366340402513742, 2.347676992416382\n",
      "Epoch: 46, Fine Tune Loss: 8.745, consits of 1.7389930486679077, 4.650633811950684, 0.012842272408306599, 2.34226393699646\n",
      "Epoch: 46, Fine Validation Loss: 4.795, consits of 2.1836845874786377, 0.26544496417045593, 0.003906997852027416, 2.34226393699646\n",
      "Epoch: 47, Fine Tune Loss: 9.981, consits of 3.371979236602783, 4.255970478057861, 0.00964932981878519, 2.3431355953216553\n",
      "Epoch: 47, Fine Validation Loss: 4.718, consits of 2.1558587551116943, 0.2147732973098755, 0.0037631988525390625, 2.3431355953216553\n",
      "Epoch: 48, Fine Tune Loss: 3.452, consits of 0.951998233795166, 0.151910200715065, 0.006919228937476873, 2.3414647579193115\n",
      "Epoch: 48, Fine Validation Loss: 4.746, consits of 2.177915096282959, 0.2225271612405777, 0.0038011816795915365, 2.3414647579193115\n",
      "Epoch: 49, Fine Tune Loss: 6.459, consits of 3.6706836223602295, 0.43672990798950195, 0.0052659474313259125, 2.346137285232544\n",
      "Epoch: 49, Fine Validation Loss: 4.86, consits of 2.2035326957702637, 0.30633464455604553, 0.0040704295970499516, 2.346137285232544\n"
     ]
    }
   ],
   "metadata": {}
  },
  {
   "cell_type": "code",
   "execution_count": 11,
   "source": [
    "#from TSInterpret.InterpretabilityModels.TSInsight.TSInsightPYT import TSInsightPYT\n",
    "#exp_model=TSInsightPYT(model,(shape[-2],shape[-1]),train_loader, test_loader, autoencoder='cnn')"
   ],
   "outputs": [],
   "metadata": {}
  },
  {
   "cell_type": "code",
   "execution_count": 12,
   "source": [
    "# save model \n",
    "#torch.save(exp_model.autoencoder.state_dict(), f'../../ClassificationModels/models/{dataset}/TSInsightAutoencoder_cnn')"
   ],
   "outputs": [],
   "metadata": {}
  },
  {
   "cell_type": "code",
   "execution_count": 13,
   "source": [
    "item=X_val[0].reshape(1,1,-1)\n",
    "shape=item.shape\n",
    "_item=  torch.from_numpy(item).float()\n",
    "model.eval()\n",
    "#y_target= model(_item).detach().numpy()\n",
    "y_target = torch.nn.functional.softmax(model(_item)).detach().numpy()"
   ],
   "outputs": [],
   "metadata": {}
  },
  {
   "cell_type": "code",
   "execution_count": 14,
   "source": [
    "exp=exp_model.explain(item)"
   ],
   "outputs": [],
   "metadata": {}
  },
  {
   "cell_type": "code",
   "execution_count": 15,
   "source": [
    "np.count_nonzero(item.flatten()-exp.flatten())"
   ],
   "outputs": [
    {
     "output_type": "execute_result",
     "data": {
      "text/plain": [
       "96"
      ]
     },
     "metadata": {},
     "execution_count": 15
    }
   ],
   "metadata": {}
  },
  {
   "cell_type": "code",
   "execution_count": 16,
   "source": [
    "exp.shape"
   ],
   "outputs": [
    {
     "output_type": "execute_result",
     "data": {
      "text/plain": [
       "(1, 1, 96)"
      ]
     },
     "metadata": {},
     "execution_count": 16
    }
   ],
   "metadata": {}
  },
  {
   "cell_type": "code",
   "execution_count": 17,
   "source": [
    "item.shape"
   ],
   "outputs": [
    {
     "output_type": "execute_result",
     "data": {
      "text/plain": [
       "(1, 1, 96)"
      ]
     },
     "metadata": {},
     "execution_count": 17
    }
   ],
   "metadata": {}
  },
  {
   "cell_type": "code",
   "execution_count": 18,
   "source": [
    "#TODO scale og plot\n",
    "exp_model.plot(item, exp,all_in_one=False)"
   ],
   "outputs": [
    {
     "output_type": "display_data",
     "data": {
      "image/png": "[encoded data removed]",
      "text/plain": [
       "<Figure size 432x288 with 4 Axes>"
      ]
     },
     "metadata": {
      "needs_background": "light"
     }
    }
   ],
   "metadata": {}
  },
  {
   "cell_type": "code",
   "execution_count": 19,
   "source": [
    "exp_model.plot(item, exp)"
   ],
   "outputs": [
    {
     "output_type": "display_data",
     "data": {
      "image/png": "[encoded data removed]",
      "text/plain": [
       "<Figure size 432x288 with 1 Axes>"
      ]
     },
     "metadata": {
      "needs_background": "light"
     }
    }
   ],
   "metadata": {}
  },
  {
   "cell_type": "code",
   "execution_count": 20,
   "source": [
    "np.min(exp)"
   ],
   "outputs": [
    {
     "output_type": "execute_result",
     "data": {
      "text/plain": [
       "-1.1063241"
      ]
     },
     "metadata": {},
     "execution_count": 20
    }
   ],
   "metadata": {}
  },
  {
   "cell_type": "code",
   "execution_count": 21,
   "source": [
    "np.max(exp)"
   ],
   "outputs": [
    {
     "output_type": "execute_result",
     "data": {
      "text/plain": [
       "9.730393"
      ]
     },
     "metadata": {},
     "execution_count": 21
    }
   ],
   "metadata": {}
  },
  {
   "cell_type": "code",
   "execution_count": 22,
   "source": [
    "sns.lineplot(x=range(0,len(exp.reshape(-1))), y=exp.flatten(), color='black')"
   ],
   "outputs": [
    {
     "output_type": "execute_result",
     "data": {
      "text/plain": [
       "<AxesSubplot:>"
      ]
     },
     "metadata": {},
     "execution_count": 22
    },
    {
     "output_type": "display_data",
     "data": {
      "image/png": "[encoded data removed]",
      "text/plain": [
       "<Figure size 432x288 with 1 Axes>"
      ]
     },
     "metadata": {
      "needs_background": "light"
     }
    }
   ],
   "metadata": {}
  },
  {
   "cell_type": "code",
   "execution_count": 23,
   "source": [
    "#print(exp)"
   ],
   "outputs": [],
   "metadata": {}
  },
  {
   "cell_type": "code",
   "execution_count": 24,
   "source": [
    "#print(exp.shape)"
   ],
   "outputs": [],
   "metadata": {}
  },
  {
   "cell_type": "markdown",
   "source": [
    "# Plot Item "
   ],
   "metadata": {}
  },
  {
   "cell_type": "code",
   "execution_count": 25,
   "source": [
    "\n",
    "#exp_model.plot(item,np.argmax(y_target,axis=1)[0],exp,label)"
   ],
   "outputs": [],
   "metadata": {}
  },
  {
   "cell_type": "code",
   "execution_count": 26,
   "source": [
    "#xp_model.plot_in_one(item,np.argmax(y_target,axis=1)[0],exp,label)"
   ],
   "outputs": [],
   "metadata": {}
  }
 ],
 "metadata": {
  "orig_nbformat": 4,
  "language_info": {
   "name": "python",
   "version": "3.7.5",
   "mimetype": "text/x-python",
   "codemirror_mode": {
    "name": "ipython",
    "version": 3
   },
   "pygments_lexer": "ipython3",
   "nbconvert_exporter": "python",
   "file_extension": ".py"
  },
  "kernelspec": {
   "name": "python3",
   "display_name": "Python 3.7.5 64-bit ('TSInterpret-NXJYnQDU': pipenv)"
  },
  "interpreter": {
   "hash": "16db99a3fba429d86cb96b96f3cee6d3141a37b91b1d019974802969710b6701"
  }
 },
 "nbformat": 4,
 "nbformat_minor": 2
}