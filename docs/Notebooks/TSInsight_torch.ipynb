{
 "cells": [
  {
   "cell_type": "code",
   "execution_count": 1,
   "source": [
    "import sklearn\n",
    "import pickle\n",
    "import numpy as np \n",
    "import torch \n",
    "from ClassificationModels.CNN_T import ResNetBaseline, get_all_preds, fit, UCRDataset\n",
    "import matplotlib.pyplot as plt\n",
    "import seaborn as sns\n",
    "from sklearn.metrics import confusion_matrix, accuracy_score, classification_report\n",
    "import pandas as pd\n",
    "from tslearn.datasets import UCR_UEA_datasets\n",
    "import os "
   ],
   "outputs": [],
   "metadata": {}
  },
  {
   "cell_type": "markdown",
   "source": [
    "# Parameters"
   ],
   "metadata": {}
  },
  {
   "cell_type": "code",
   "execution_count": 2,
   "source": [
    "#TODO Test and show results on Forest Cover Dataset \n",
    "dataset='ElectricDevices'"
   ],
   "outputs": [],
   "metadata": {}
  },
  {
   "cell_type": "markdown",
   "source": [
    "# Load Data"
   ],
   "metadata": {}
  },
  {
   "cell_type": "code",
   "execution_count": 3,
   "source": [
    "\n",
    "train_x,train_y, test_x, test_y=UCR_UEA_datasets().load_dataset(dataset)\n",
    "train_x = train_x.reshape(-1,1,  train_x.shape[-2])\n",
    "test_x = test_x.reshape(-1,1,  test_x.shape[-2])"
   ],
   "outputs": [],
   "metadata": {}
  },
  {
   "cell_type": "code",
   "execution_count": null,
   "source": [],
   "outputs": [],
   "metadata": {}
  },
  {
   "cell_type": "code",
   "execution_count": 4,
   "source": [
    "print(test_y.shape)"
   ],
   "outputs": [
    {
     "output_type": "stream",
     "name": "stdout",
     "text": [
      "(7711,)\n"
     ]
    }
   ],
   "metadata": {}
  },
  {
   "cell_type": "code",
   "execution_count": 5,
   "source": [
    "enc1=pickle.load(open(f'../../ClassificationModels/models/{dataset}/OneHotEncoder.pkl','rb'))\n",
    "train_y=enc1.transform(train_y.reshape(-1,1))\n",
    "test_y=enc1.transform(test_y.reshape(-1,1))"
   ],
   "outputs": [
    {
     "output_type": "stream",
     "name": "stderr",
     "text": [
      "/home/jacqueline/.local/share/virtualenvs/TSInterpret-NXJYnQDU/lib/python3.7/site-packages/sklearn/base.py:338: UserWarning: Trying to unpickle estimator OneHotEncoder from version 0.24.2 when using version 1.0.2. This might lead to breaking code or invalid results. Use at your own risk. For more info please refer to:\n",
      "https://scikit-learn.org/stable/modules/model_persistence.html#security-maintainability-limitations\n",
      "  UserWarning,\n"
     ]
    }
   ],
   "metadata": {}
  },
  {
   "cell_type": "markdown",
   "source": [
    "# Model Training"
   ],
   "metadata": {}
  },
  {
   "cell_type": "code",
   "execution_count": 6,
   "source": [
    "n_pred_classes =train_y.shape[1]\n",
    "train_dataset = UCRDataset(train_x.astype(np.float64),train_y.astype(np.int64))\n",
    "test_dataset = UCRDataset(test_x.astype(np.float64),test_y.astype(np.int64))\n",
    "train_loader = torch.utils.data.DataLoader(train_dataset,batch_size=256,shuffle=True)\n",
    "test_loader = torch.utils.data.DataLoader(test_dataset,batch_size=1,shuffle=False)\n",
    "model = ResNetBaseline(in_channels=1, num_pred_classes=n_pred_classes)\n",
    "model.load_state_dict(torch.load(f'../../ClassificationModels/models/{dataset}/ResNet'))\n",
    "model.eval()"
   ],
   "outputs": [
    {
     "output_type": "execute_result",
     "data": {
      "text/plain": [
       "ResNetBaseline(\n",
       "  (layers): Sequential(\n",
       "    (0): ResNetBlock(\n",
       "      (layers): Sequential(\n",
       "        (0): ConvBlock(\n",
       "          (layers): Sequential(\n",
       "            (0): Conv1dSamePadding(1, 64, kernel_size=(8,), stride=(1,))\n",
       "            (1): BatchNorm1d(64, eps=1e-05, momentum=0.1, affine=True, track_running_stats=True)\n",
       "            (2): ReLU()\n",
       "          )\n",
       "        )\n",
       "        (1): ConvBlock(\n",
       "          (layers): Sequential(\n",
       "            (0): Conv1dSamePadding(64, 64, kernel_size=(5,), stride=(1,))\n",
       "            (1): BatchNorm1d(64, eps=1e-05, momentum=0.1, affine=True, track_running_stats=True)\n",
       "            (2): ReLU()\n",
       "          )\n",
       "        )\n",
       "        (2): ConvBlock(\n",
       "          (layers): Sequential(\n",
       "            (0): Conv1dSamePadding(64, 64, kernel_size=(3,), stride=(1,))\n",
       "            (1): BatchNorm1d(64, eps=1e-05, momentum=0.1, affine=True, track_running_stats=True)\n",
       "            (2): ReLU()\n",
       "          )\n",
       "        )\n",
       "      )\n",
       "      (residual): Sequential(\n",
       "        (0): Conv1dSamePadding(1, 64, kernel_size=(1,), stride=(1,))\n",
       "        (1): BatchNorm1d(64, eps=1e-05, momentum=0.1, affine=True, track_running_stats=True)\n",
       "      )\n",
       "    )\n",
       "    (1): ResNetBlock(\n",
       "      (layers): Sequential(\n",
       "        (0): ConvBlock(\n",
       "          (layers): Sequential(\n",
       "            (0): Conv1dSamePadding(64, 128, kernel_size=(8,), stride=(1,))\n",
       "            (1): BatchNorm1d(128, eps=1e-05, momentum=0.1, affine=True, track_running_stats=True)\n",
       "            (2): ReLU()\n",
       "          )\n",
       "        )\n",
       "        (1): ConvBlock(\n",
       "          (layers): Sequential(\n",
       "            (0): Conv1dSamePadding(128, 128, kernel_size=(5,), stride=(1,))\n",
       "            (1): BatchNorm1d(128, eps=1e-05, momentum=0.1, affine=True, track_running_stats=True)\n",
       "            (2): ReLU()\n",
       "          )\n",
       "        )\n",
       "        (2): ConvBlock(\n",
       "          (layers): Sequential(\n",
       "            (0): Conv1dSamePadding(128, 128, kernel_size=(3,), stride=(1,))\n",
       "            (1): BatchNorm1d(128, eps=1e-05, momentum=0.1, affine=True, track_running_stats=True)\n",
       "            (2): ReLU()\n",
       "          )\n",
       "        )\n",
       "      )\n",
       "      (residual): Sequential(\n",
       "        (0): Conv1dSamePadding(64, 128, kernel_size=(1,), stride=(1,))\n",
       "        (1): BatchNorm1d(128, eps=1e-05, momentum=0.1, affine=True, track_running_stats=True)\n",
       "      )\n",
       "    )\n",
       "    (2): ResNetBlock(\n",
       "      (layers): Sequential(\n",
       "        (0): ConvBlock(\n",
       "          (layers): Sequential(\n",
       "            (0): Conv1dSamePadding(128, 128, kernel_size=(8,), stride=(1,))\n",
       "            (1): BatchNorm1d(128, eps=1e-05, momentum=0.1, affine=True, track_running_stats=True)\n",
       "            (2): ReLU()\n",
       "          )\n",
       "        )\n",
       "        (1): ConvBlock(\n",
       "          (layers): Sequential(\n",
       "            (0): Conv1dSamePadding(128, 128, kernel_size=(5,), stride=(1,))\n",
       "            (1): BatchNorm1d(128, eps=1e-05, momentum=0.1, affine=True, track_running_stats=True)\n",
       "            (2): ReLU()\n",
       "          )\n",
       "        )\n",
       "        (2): ConvBlock(\n",
       "          (layers): Sequential(\n",
       "            (0): Conv1dSamePadding(128, 128, kernel_size=(3,), stride=(1,))\n",
       "            (1): BatchNorm1d(128, eps=1e-05, momentum=0.1, affine=True, track_running_stats=True)\n",
       "            (2): ReLU()\n",
       "          )\n",
       "        )\n",
       "      )\n",
       "    )\n",
       "  )\n",
       "  (final): Linear(in_features=128, out_features=7, bias=True)\n",
       ")"
      ]
     },
     "metadata": {},
     "execution_count": 6
    }
   ],
   "metadata": {}
  },
  {
   "cell_type": "markdown",
   "source": [
    "# Explanation Algo"
   ],
   "metadata": {}
  },
  {
   "cell_type": "code",
   "execution_count": 7,
   "source": [
    "item=train_x[1].reshape(1,1,-1)\n",
    "shape=item.shape\n",
    "_item=  torch.from_numpy(item).float()\n",
    "model.eval()\n",
    "#y_target= model(_item).detach().numpy()\n",
    "y_target = torch.nn.functional.softmax(model(_item)).detach().numpy()"
   ],
   "outputs": [
    {
     "output_type": "stream",
     "name": "stderr",
     "text": [
      "/home/jacqueline/.local/share/virtualenvs/TSInterpret-NXJYnQDU/lib/python3.7/site-packages/ipykernel_launcher.py:6: UserWarning: Implicit dimension choice for softmax has been deprecated. Change the call to include dim=X as an argument.\n",
      "  \n"
     ]
    }
   ],
   "metadata": {}
  },
  {
   "cell_type": "code",
   "execution_count": 8,
   "source": [
    "print(y_target)"
   ],
   "outputs": [
    {
     "output_type": "stream",
     "name": "stdout",
     "text": [
      "[[1.0000000e+00 6.6886139e-21 2.4278204e-14 6.3224306e-17 4.5065074e-10\n",
      "  2.9705713e-12 8.7912681e-16]]\n"
     ]
    }
   ],
   "metadata": {}
  },
  {
   "cell_type": "code",
   "execution_count": 9,
   "source": [
    "from TSInterpret.InterpretabilityModels.TSInsight.TSInsightPYT import Vanilla_Autoencoder,TSInsightPYT\n",
    "\n",
    "autoencoder= Vanilla_Autoencoder(item.shape[2])\n",
    "autoencoder.load_state_dict(torch.load(f'../../ClassificationModels/models/{dataset}/TSInsightAutoencoder_new_params'))\n",
    "exp_model=TSInsightPYT(model,(shape[-2],shape[-1]),train_loader, test_loader, autoencoder=autoencoder)"
   ],
   "outputs": [
    {
     "output_type": "stream",
     "name": "stderr",
     "text": [
      "2022-07-28 16:11:53.146013: W tensorflow/stream_executor/platform/default/dso_loader.cc:64] Could not load dynamic library 'libcudart.so.11.0'; dlerror: libcudart.so.11.0: cannot open shared object file: No such file or directory\n",
      "2022-07-28 16:11:53.146029: I tensorflow/stream_executor/cuda/cudart_stub.cc:29] Ignore above cudart dlerror if you do not have a GPU set up on your machine.\n"
     ]
    },
    {
     "output_type": "stream",
     "name": "stdout",
     "text": [
      "Epoch: 0, Fine Tune Loss: 27.729, consits of 3.382460832595825, 3.8733906745910645, 0.016785193234682083, 20.456106185913086\n",
      "Epoch: 1, Fine Tune Loss: 23.419, consits of 1.6765509843826294, 3.7502849102020264, 0.017351608723402023, 17.97478485107422\n",
      "Epoch: 2, Fine Tune Loss: 22.066, consits of 2.119133234024048, 3.736905336380005, 0.017337212339043617, 16.192598342895508\n",
      "Epoch: 3, Fine Tune Loss: 19.783, consits of 1.4114229679107666, 3.696597099304199, 0.01701563037931919, 14.65807056427002\n",
      "Epoch: 4, Fine Tune Loss: 18.741, consits of 1.5344337224960327, 3.9343109130859375, 0.016017358750104904, 13.25586223602295\n",
      "Epoch: 5, Fine Tune Loss: 17.304, consits of 1.3814706802368164, 3.9594616889953613, 0.015769243240356445, 11.947410583496094\n",
      "Epoch: 6, Fine Tune Loss: 15.345, consits of 0.9039222002029419, 3.688455581665039, 0.01694740168750286, 10.735567092895508\n",
      "Epoch: 7, Fine Tune Loss: 15.58, consits of 2.0878283977508545, 3.8506815433502197, 0.01651219092309475, 9.624629020690918\n",
      "Epoch: 8, Fine Tune Loss: 13.455, consits of 1.034880518913269, 3.7766072750091553, 0.017583701759576797, 8.6261568069458\n",
      "Epoch: 9, Fine Tune Loss: 12.372, consits of 0.8176490664482117, 3.79988169670105, 0.016214048489928246, 7.738411903381348\n",
      "Epoch: 10, Fine Tune Loss: 11.089, consits of 0.3876160979270935, 3.73559832572937, 0.01693175546824932, 6.948520183563232\n",
      "Epoch: 11, Fine Tune Loss: 10.484, consits of 0.884445309638977, 3.3163020610809326, 0.02309805154800415, 6.260594844818115\n",
      "Epoch: 12, Fine Tune Loss: 9.82, consits of 0.5786660313606262, 3.5542352199554443, 0.01967298611998558, 5.667597770690918\n",
      "Epoch: 13, Fine Tune Loss: 9.738, consits of 1.05458664894104, 3.512453079223633, 0.020647715777158737, 5.149993419647217\n",
      "Epoch: 14, Fine Tune Loss: 9.935, consits of 1.4124927520751953, 3.7944424152374268, 0.01764688454568386, 4.710210800170898\n",
      "Epoch: 15, Fine Tune Loss: 8.679, consits of 0.7695795893669128, 3.555363655090332, 0.019946163520216942, 4.333724498748779\n",
      "Epoch: 16, Fine Tune Loss: 8.746, consits of 0.9807818531990051, 3.7375648021698, 0.017900284379720688, 4.009581565856934\n",
      "Epoch: 17, Fine Tune Loss: 8.306, consits of 0.9258540272712708, 3.6186046600341797, 0.01898600347340107, 3.7422759532928467\n",
      "Epoch: 18, Fine Tune Loss: 8.007, consits of 0.8199097514152527, 3.651719331741333, 0.01937853917479515, 3.5160768032073975\n",
      "Epoch: 19, Fine Tune Loss: 7.593, consits of 0.7159363031387329, 3.5421178340911865, 0.019986506551504135, 3.3149406909942627\n",
      "Epoch: 20, Fine Tune Loss: 7.822, consits of 0.8009253144264221, 3.87772798538208, 0.01585669443011284, 3.127446174621582\n",
      "Epoch: 21, Fine Tune Loss: 7.871, consits of 1.0875033140182495, 3.805051565170288, 0.01654677651822567, 2.9618194103240967\n",
      "Epoch: 22, Fine Tune Loss: 7.953, consits of 1.3742190599441528, 3.747821569442749, 0.017531557008624077, 2.8134281635284424\n",
      "Epoch: 23, Fine Tune Loss: 6.778, consits of 0.3895438313484192, 3.6923210620880127, 0.017740530893206596, 2.67846941947937\n",
      "Epoch: 24, Fine Tune Loss: 7.757, consits of 1.346035361289978, 3.829481840133667, 0.016050318256020546, 2.5651071071624756\n",
      "Epoch: 25, Fine Tune Loss: 7.327, consits of 1.0483537912368774, 3.7993898391723633, 0.0164874866604805, 2.4624433517456055\n",
      "Epoch: 26, Fine Tune Loss: 6.644, consits of 0.4968280792236328, 3.755155324935913, 0.01760697551071644, 2.3740580081939697\n",
      "Epoch: 27, Fine Tune Loss: 7.362, consits of 1.3116759061813354, 3.7392091751098633, 0.017252929508686066, 2.293682336807251\n",
      "Epoch: 28, Fine Tune Loss: 7.14, consits of 1.146790862083435, 3.7491374015808105, 0.01653909869492054, 2.2273976802825928\n",
      "Epoch: 29, Fine Tune Loss: 7.411, consits of 1.242308497428894, 3.9856672286987305, 0.015197652392089367, 2.1673946380615234\n",
      "Epoch: 30, Fine Tune Loss: 6.923, consits of 1.0883867740631104, 3.706444501876831, 0.017092222347855568, 2.110821485519409\n",
      "Epoch: 31, Fine Tune Loss: 7.022, consits of 1.0386528968811035, 3.910618305206299, 0.014873727224767208, 2.0578510761260986\n",
      "Epoch: 32, Fine Tune Loss: 6.676, consits of 0.9469560384750366, 3.6955647468566895, 0.01678871363401413, 2.016935110092163\n",
      "Epoch: 33, Fine Tune Loss: 6.342, consits of 0.5488309264183044, 3.812098264694214, 0.015859942883253098, 1.9654760360717773\n",
      "Epoch: 34, Fine Tune Loss: 7.19, consits of 1.4468928575515747, 3.801213502883911, 0.015337206423282623, 1.9269708395004272\n",
      "Epoch: 35, Fine Tune Loss: 6.714, consits of 1.0108946561813354, 3.802766799926758, 0.01562587544322014, 1.8843587636947632\n",
      "Epoch: 36, Fine Tune Loss: 6.959, consits of 1.1398340463638306, 3.9669320583343506, 0.014378031715750694, 1.83772873878479\n",
      "Epoch: 37, Fine Tune Loss: 6.61, consits of 0.9339078664779663, 3.8633487224578857, 0.014791996218264103, 1.7980934381484985\n",
      "Epoch: 38, Fine Tune Loss: 6.839, consits of 1.1181617975234985, 3.9612107276916504, 0.01449252013117075, 1.744648814201355\n",
      "Epoch: 39, Fine Tune Loss: 6.584, consits of 0.9735719561576843, 3.9031434059143066, 0.014242521487176418, 1.6932706832885742\n",
      "Epoch: 40, Fine Tune Loss: 6.363, consits of 0.8778275847434998, 3.8271350860595703, 0.014381843619048595, 1.6436350345611572\n",
      "Epoch: 41, Fine Tune Loss: 6.421, consits of 1.0056684017181396, 3.804750442504883, 0.014261934906244278, 1.595903992652893\n",
      "Epoch: 42, Fine Tune Loss: 7.237, consits of 1.7558486461639404, 3.9059085845947266, 0.014027445577085018, 1.5611666440963745\n",
      "Epoch: 43, Fine Tune Loss: 6.513, consits of 1.0801935195922852, 3.891779899597168, 0.013985536061227322, 1.5266499519348145\n",
      "Early Stopping\n"
     ]
    }
   ],
   "metadata": {}
  },
  {
   "cell_type": "code",
   "execution_count": 10,
   "source": [
    "#from TSInterpret.InterpretabilityModels.TSInsight.TSInsightPYT import TSInsightPYT\n",
    "#exp_model=TSInsightPYT(model,(shape[-2],shape[-1]),train_loader, test_loader)"
   ],
   "outputs": [],
   "metadata": {}
  },
  {
   "cell_type": "code",
   "execution_count": 11,
   "source": [
    "# save model \n",
    "#torch.save(exp_model.autoencoder.state_dict(), f'../../ClassificationModels/models/{dataset}/TSInsightAutoencoder_new_params')"
   ],
   "outputs": [],
   "metadata": {}
  },
  {
   "cell_type": "code",
   "execution_count": 12,
   "source": [
    "exp=exp_model.explain(item)"
   ],
   "outputs": [],
   "metadata": {}
  },
  {
   "cell_type": "code",
   "execution_count": 13,
   "source": [
    "np.count_nonzero(item.flatten()-exp.flatten())"
   ],
   "outputs": [
    {
     "output_type": "execute_result",
     "data": {
      "text/plain": [
       "96"
      ]
     },
     "metadata": {},
     "execution_count": 13
    }
   ],
   "metadata": {}
  },
  {
   "cell_type": "code",
   "execution_count": 14,
   "source": [
    "exp.shape"
   ],
   "outputs": [
    {
     "output_type": "execute_result",
     "data": {
      "text/plain": [
       "(1, 1, 96)"
      ]
     },
     "metadata": {},
     "execution_count": 14
    }
   ],
   "metadata": {}
  },
  {
   "cell_type": "code",
   "execution_count": 15,
   "source": [
    "item.shape"
   ],
   "outputs": [
    {
     "output_type": "execute_result",
     "data": {
      "text/plain": [
       "(1, 1, 96)"
      ]
     },
     "metadata": {},
     "execution_count": 15
    }
   ],
   "metadata": {}
  },
  {
   "cell_type": "code",
   "execution_count": 16,
   "source": [
    "#TODO scale og plot\n",
    "exp_model.plot(item, exp,all_in_one=False)"
   ],
   "outputs": [
    {
     "output_type": "display_data",
     "data": {
      "image/png": "[encoded data removed]",
      "text/plain": [
       "<Figure size 432x288 with 4 Axes>"
      ]
     },
     "metadata": {
      "needs_background": "light"
     }
    }
   ],
   "metadata": {}
  },
  {
   "cell_type": "code",
   "execution_count": 17,
   "source": [
    "exp_model.plot(item, exp)"
   ],
   "outputs": [
    {
     "output_type": "display_data",
     "data": {
      "image/png": "[encoded data removed]",
      "text/plain": [
       "<Figure size 432x288 with 2 Axes>"
      ]
     },
     "metadata": {
      "needs_background": "light"
     }
    }
   ],
   "metadata": {}
  },
  {
   "cell_type": "code",
   "execution_count": 18,
   "source": [
    "np.min(exp)"
   ],
   "outputs": [
    {
     "output_type": "execute_result",
     "data": {
      "text/plain": [
       "-0.25437328"
      ]
     },
     "metadata": {},
     "execution_count": 18
    }
   ],
   "metadata": {}
  },
  {
   "cell_type": "code",
   "execution_count": 19,
   "source": [
    "np.max(exp)"
   ],
   "outputs": [
    {
     "output_type": "execute_result",
     "data": {
      "text/plain": [
       "0.28775698"
      ]
     },
     "metadata": {},
     "execution_count": 19
    }
   ],
   "metadata": {}
  },
  {
   "cell_type": "code",
   "execution_count": 20,
   "source": [
    "sns.lineplot(x=range(0,len(exp.reshape(-1))), y=exp.flatten(), color='black')"
   ],
   "outputs": [
    {
     "output_type": "execute_result",
     "data": {
      "text/plain": [
       "<AxesSubplot:>"
      ]
     },
     "metadata": {},
     "execution_count": 20
    },
    {
     "output_type": "display_data",
     "data": {
      "image/png": "[encoded data removed]",
      "text/plain": [
       "<Figure size 432x288 with 1 Axes>"
      ]
     },
     "metadata": {
      "needs_background": "light"
     }
    }
   ],
   "metadata": {}
  },
  {
   "cell_type": "code",
   "execution_count": 21,
   "source": [
    "#print(exp)"
   ],
   "outputs": [],
   "metadata": {}
  },
  {
   "cell_type": "code",
   "execution_count": 22,
   "source": [
    "#print(exp.shape)"
   ],
   "outputs": [],
   "metadata": {}
  },
  {
   "cell_type": "markdown",
   "source": [
    "# Plot Item "
   ],
   "metadata": {}
  },
  {
   "cell_type": "code",
   "execution_count": 23,
   "source": [
    "\n",
    "#exp_model.plot(item,np.argmax(y_target,axis=1)[0],exp,label)"
   ],
   "outputs": [],
   "metadata": {}
  },
  {
   "cell_type": "code",
   "execution_count": 24,
   "source": [
    "#xp_model.plot_in_one(item,np.argmax(y_target,axis=1)[0],exp,label)"
   ],
   "outputs": [],
   "metadata": {}
  }
 ],
 "metadata": {
  "orig_nbformat": 4,
  "language_info": {
   "name": "python",
   "version": "3.7.5",
   "mimetype": "text/x-python",
   "codemirror_mode": {
    "name": "ipython",
    "version": 3
   },
   "pygments_lexer": "ipython3",
   "nbconvert_exporter": "python",
   "file_extension": ".py"
  },
  "kernelspec": {
   "name": "python3",
   "display_name": "Python 3.7.5 64-bit ('TSInterpret-NXJYnQDU': pipenv)"
  },
  "interpreter": {
   "hash": "16db99a3fba429d86cb96b96f3cee6d3141a37b91b1d019974802969710b6701"
  }
 },
 "nbformat": 4,
 "nbformat_minor": 2
}