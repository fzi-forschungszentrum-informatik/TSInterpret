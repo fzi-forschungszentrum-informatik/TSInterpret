{
 "cells": [
  {
   "cell_type": "code",
   "execution_count": 1,
   "source": [
    "import sklearn\n",
    "import pickle\n",
    "import numpy as np \n",
    "import torch \n",
    "from ClassificationModels.CNN_T import ResNetBaseline, get_all_preds, fit, UCRDataset\n",
    "import matplotlib.pyplot as plt\n",
    "import seaborn as sns\n",
    "from sklearn.metrics import confusion_matrix, accuracy_score, classification_report\n",
    "import pandas as pd\n",
    "from tslearn.datasets import UCR_UEA_datasets\n",
    "import os "
   ],
   "outputs": [],
   "metadata": {}
  },
  {
   "cell_type": "markdown",
   "source": [
    "# Parameters"
   ],
   "metadata": {}
  },
  {
   "cell_type": "code",
   "execution_count": 2,
   "source": [
    "#TODO Test and show results on Forest Cover Dataset \n",
    "dataset='ElectricDevices'"
   ],
   "outputs": [],
   "metadata": {}
  },
  {
   "cell_type": "markdown",
   "source": [
    "# Load Data"
   ],
   "metadata": {}
  },
  {
   "cell_type": "code",
   "execution_count": 3,
   "source": [
    "\n",
    "train_x,train_y, test_x, test_y=UCR_UEA_datasets().load_dataset(dataset)\n",
    "train_x = train_x.reshape(-1,1,  train_x.shape[-2])\n",
    "test_x = test_x.reshape(-1,1,  test_x.shape[-2])"
   ],
   "outputs": [],
   "metadata": {}
  },
  {
   "cell_type": "code",
   "execution_count": null,
   "source": [],
   "outputs": [],
   "metadata": {}
  },
  {
   "cell_type": "code",
   "execution_count": 4,
   "source": [
    "print(test_y.shape)"
   ],
   "outputs": [
    {
     "output_type": "stream",
     "name": "stdout",
     "text": [
      "(7711,)\n"
     ]
    }
   ],
   "metadata": {}
  },
  {
   "cell_type": "code",
   "execution_count": 5,
   "source": [
    "enc1=pickle.load(open(f'../../ClassificationModels/models/{dataset}/OneHotEncoder.pkl','rb'))\n",
    "train_y=enc1.transform(train_y.reshape(-1,1))\n",
    "test_y=enc1.transform(test_y.reshape(-1,1))"
   ],
   "outputs": [
    {
     "output_type": "stream",
     "name": "stderr",
     "text": [
      "/home/jacqueline/.local/share/virtualenvs/TSInterpret-NXJYnQDU/lib/python3.7/site-packages/sklearn/base.py:338: UserWarning: Trying to unpickle estimator OneHotEncoder from version 0.24.2 when using version 1.0.2. This might lead to breaking code or invalid results. Use at your own risk. For more info please refer to:\n",
      "https://scikit-learn.org/stable/modules/model_persistence.html#security-maintainability-limitations\n",
      "  UserWarning,\n"
     ]
    }
   ],
   "metadata": {}
  },
  {
   "cell_type": "markdown",
   "source": [
    "# Model Training"
   ],
   "metadata": {}
  },
  {
   "cell_type": "code",
   "execution_count": 6,
   "source": [
    "n_pred_classes =train_y.shape[1]\n",
    "train_dataset = UCRDataset(train_x.astype(np.float64),train_y.astype(np.int64))\n",
    "test_dataset = UCRDataset(test_x.astype(np.float64),test_y.astype(np.int64))\n",
    "train_loader = torch.utils.data.DataLoader(train_dataset,batch_size=16,shuffle=True)\n",
    "test_loader = torch.utils.data.DataLoader(test_dataset,batch_size=1,shuffle=False)\n",
    "model = ResNetBaseline(in_channels=1, num_pred_classes=n_pred_classes)\n",
    "model.load_state_dict(torch.load(f'../../ClassificationModels/models/{dataset}/ResNet'))\n",
    "model.eval()"
   ],
   "outputs": [
    {
     "output_type": "execute_result",
     "data": {
      "text/plain": [
       "ResNetBaseline(\n",
       "  (layers): Sequential(\n",
       "    (0): ResNetBlock(\n",
       "      (layers): Sequential(\n",
       "        (0): ConvBlock(\n",
       "          (layers): Sequential(\n",
       "            (0): Conv1dSamePadding(1, 64, kernel_size=(8,), stride=(1,))\n",
       "            (1): BatchNorm1d(64, eps=1e-05, momentum=0.1, affine=True, track_running_stats=True)\n",
       "            (2): ReLU()\n",
       "          )\n",
       "        )\n",
       "        (1): ConvBlock(\n",
       "          (layers): Sequential(\n",
       "            (0): Conv1dSamePadding(64, 64, kernel_size=(5,), stride=(1,))\n",
       "            (1): BatchNorm1d(64, eps=1e-05, momentum=0.1, affine=True, track_running_stats=True)\n",
       "            (2): ReLU()\n",
       "          )\n",
       "        )\n",
       "        (2): ConvBlock(\n",
       "          (layers): Sequential(\n",
       "            (0): Conv1dSamePadding(64, 64, kernel_size=(3,), stride=(1,))\n",
       "            (1): BatchNorm1d(64, eps=1e-05, momentum=0.1, affine=True, track_running_stats=True)\n",
       "            (2): ReLU()\n",
       "          )\n",
       "        )\n",
       "      )\n",
       "      (residual): Sequential(\n",
       "        (0): Conv1dSamePadding(1, 64, kernel_size=(1,), stride=(1,))\n",
       "        (1): BatchNorm1d(64, eps=1e-05, momentum=0.1, affine=True, track_running_stats=True)\n",
       "      )\n",
       "    )\n",
       "    (1): ResNetBlock(\n",
       "      (layers): Sequential(\n",
       "        (0): ConvBlock(\n",
       "          (layers): Sequential(\n",
       "            (0): Conv1dSamePadding(64, 128, kernel_size=(8,), stride=(1,))\n",
       "            (1): BatchNorm1d(128, eps=1e-05, momentum=0.1, affine=True, track_running_stats=True)\n",
       "            (2): ReLU()\n",
       "          )\n",
       "        )\n",
       "        (1): ConvBlock(\n",
       "          (layers): Sequential(\n",
       "            (0): Conv1dSamePadding(128, 128, kernel_size=(5,), stride=(1,))\n",
       "            (1): BatchNorm1d(128, eps=1e-05, momentum=0.1, affine=True, track_running_stats=True)\n",
       "            (2): ReLU()\n",
       "          )\n",
       "        )\n",
       "        (2): ConvBlock(\n",
       "          (layers): Sequential(\n",
       "            (0): Conv1dSamePadding(128, 128, kernel_size=(3,), stride=(1,))\n",
       "            (1): BatchNorm1d(128, eps=1e-05, momentum=0.1, affine=True, track_running_stats=True)\n",
       "            (2): ReLU()\n",
       "          )\n",
       "        )\n",
       "      )\n",
       "      (residual): Sequential(\n",
       "        (0): Conv1dSamePadding(64, 128, kernel_size=(1,), stride=(1,))\n",
       "        (1): BatchNorm1d(128, eps=1e-05, momentum=0.1, affine=True, track_running_stats=True)\n",
       "      )\n",
       "    )\n",
       "    (2): ResNetBlock(\n",
       "      (layers): Sequential(\n",
       "        (0): ConvBlock(\n",
       "          (layers): Sequential(\n",
       "            (0): Conv1dSamePadding(128, 128, kernel_size=(8,), stride=(1,))\n",
       "            (1): BatchNorm1d(128, eps=1e-05, momentum=0.1, affine=True, track_running_stats=True)\n",
       "            (2): ReLU()\n",
       "          )\n",
       "        )\n",
       "        (1): ConvBlock(\n",
       "          (layers): Sequential(\n",
       "            (0): Conv1dSamePadding(128, 128, kernel_size=(5,), stride=(1,))\n",
       "            (1): BatchNorm1d(128, eps=1e-05, momentum=0.1, affine=True, track_running_stats=True)\n",
       "            (2): ReLU()\n",
       "          )\n",
       "        )\n",
       "        (2): ConvBlock(\n",
       "          (layers): Sequential(\n",
       "            (0): Conv1dSamePadding(128, 128, kernel_size=(3,), stride=(1,))\n",
       "            (1): BatchNorm1d(128, eps=1e-05, momentum=0.1, affine=True, track_running_stats=True)\n",
       "            (2): ReLU()\n",
       "          )\n",
       "        )\n",
       "      )\n",
       "    )\n",
       "  )\n",
       "  (final): Linear(in_features=128, out_features=7, bias=True)\n",
       ")"
      ]
     },
     "metadata": {},
     "execution_count": 6
    }
   ],
   "metadata": {}
  },
  {
   "cell_type": "markdown",
   "source": [
    "# Explanation Algo"
   ],
   "metadata": {}
  },
  {
   "cell_type": "code",
   "execution_count": 7,
   "source": [
    "item=train_x[1].reshape(1,1,-1)\n",
    "shape=item.shape\n",
    "_item=  torch.from_numpy(item).float()\n",
    "model.eval()\n",
    "#y_target= model(_item).detach().numpy()\n",
    "y_target = torch.nn.functional.softmax(model(_item)).detach().numpy()"
   ],
   "outputs": [
    {
     "output_type": "stream",
     "name": "stderr",
     "text": [
      "/home/jacqueline/.local/share/virtualenvs/TSInterpret-NXJYnQDU/lib/python3.7/site-packages/ipykernel_launcher.py:6: UserWarning: Implicit dimension choice for softmax has been deprecated. Change the call to include dim=X as an argument.\n",
      "  \n"
     ]
    }
   ],
   "metadata": {}
  },
  {
   "cell_type": "code",
   "execution_count": 8,
   "source": [
    "print(y_target)"
   ],
   "outputs": [
    {
     "output_type": "stream",
     "name": "stdout",
     "text": [
      "[[1.0000000e+00 6.6886139e-21 2.4278204e-14 6.3224306e-17 4.5065074e-10\n",
      "  2.9705713e-12 8.7912681e-16]]\n"
     ]
    }
   ],
   "metadata": {}
  },
  {
   "cell_type": "code",
   "execution_count": 25,
   "source": [
    "from TSInterpret.InterpretabilityModels.TSInsight.TSInsightPYT import Vanilla_Autoencoder\n",
    "\n",
    "autoencoder= Vanilla_Autoencoder(item.shape[2])\n",
    "autoencoder.load_state_dict(torch.load(f'../../ClassificationModels/models/{dataset}/TSInsightAutoencoder_new_params'))\n",
    "exp_model=TSInsightPYT(model,(shape[-2],shape[-1]),train_loader, test_loader, autoencoder=autoencoder)"
   ],
   "outputs": [
    {
     "output_type": "stream",
     "name": "stdout",
     "text": [
      "Epoch: 0, Fine Tune Loss: 4238.764\n",
      "Epoch: 1, Fine Tune Loss: 929.983\n",
      "Epoch: 2, Fine Tune Loss: 342.169\n",
      "Epoch: 3, Fine Tune Loss: 157.816\n",
      "Epoch: 4, Fine Tune Loss: 105.659\n",
      "Epoch: 5, Fine Tune Loss: 136.001\n",
      "Epoch: 6, Fine Tune Loss: 90.99\n",
      "Epoch: 7, Fine Tune Loss: 151.652\n",
      "Epoch: 8, Fine Tune Loss: 62.263\n",
      "Epoch: 9, Fine Tune Loss: 64.077\n",
      "Epoch: 10, Fine Tune Loss: 55.867\n",
      "Epoch: 11, Fine Tune Loss: 81.829\n",
      "Epoch: 12, Fine Tune Loss: 38.788\n",
      "Epoch: 13, Fine Tune Loss: 42.576\n",
      "Epoch: 14, Fine Tune Loss: 53.852\n",
      "Epoch: 15, Fine Tune Loss: 36.528\n",
      "Epoch: 16, Fine Tune Loss: 33.319\n",
      "Epoch: 17, Fine Tune Loss: 40.466\n",
      "Epoch: 18, Fine Tune Loss: 35.929\n",
      "Epoch: 19, Fine Tune Loss: 37.185\n",
      "Epoch: 20, Fine Tune Loss: 31.941\n",
      "Epoch: 21, Fine Tune Loss: 40.059\n",
      "Epoch: 22, Fine Tune Loss: 56.017\n",
      "Epoch: 23, Fine Tune Loss: 42.707\n",
      "Epoch: 24, Fine Tune Loss: 36.381\n",
      "Epoch: 25, Fine Tune Loss: 36.324\n",
      "Epoch: 26, Fine Tune Loss: 29.47\n",
      "Epoch: 27, Fine Tune Loss: 29.543\n",
      "Epoch: 28, Fine Tune Loss: 36.218\n",
      "Epoch: 29, Fine Tune Loss: 27.633\n",
      "Epoch: 30, Fine Tune Loss: 29.586\n",
      "Epoch: 31, Fine Tune Loss: 35.247\n",
      "Epoch: 32, Fine Tune Loss: 28.766\n",
      "Epoch: 33, Fine Tune Loss: 25.15\n",
      "Epoch: 34, Fine Tune Loss: 27.308\n",
      "Epoch: 35, Fine Tune Loss: 26.264\n",
      "Epoch: 36, Fine Tune Loss: 32.58\n",
      "Epoch: 37, Fine Tune Loss: 26.32\n",
      "Epoch: 38, Fine Tune Loss: 33.917\n",
      "Epoch: 39, Fine Tune Loss: 29.495\n",
      "Epoch: 40, Fine Tune Loss: 27.345\n",
      "Epoch: 41, Fine Tune Loss: 27.559\n",
      "Epoch: 42, Fine Tune Loss: 27.208\n",
      "Epoch: 43, Fine Tune Loss: 33.696\n",
      "Early Stopping\n"
     ]
    }
   ],
   "metadata": {}
  },
  {
   "cell_type": "code",
   "execution_count": 10,
   "source": [
    "#from TSInterpret.InterpretabilityModels.TSInsight.TSInsightPYT import TSInsightPYT\n",
    "#exp_model=TSInsightPYT(model,(shape[-2],shape[-1]),train_loader, test_loader)"
   ],
   "outputs": [
    {
     "output_type": "stream",
     "name": "stderr",
     "text": [
      "2022-07-26 16:56:57.938539: W tensorflow/stream_executor/platform/default/dso_loader.cc:64] Could not load dynamic library 'libcudart.so.11.0'; dlerror: libcudart.so.11.0: cannot open shared object file: No such file or directory\n",
      "2022-07-26 16:56:57.938556: I tensorflow/stream_executor/cuda/cudart_stub.cc:29] Ignore above cudart dlerror if you do not have a GPU set up on your machine.\n"
     ]
    },
    {
     "output_type": "stream",
     "name": "stdout",
     "text": [
      "Epoch: 0, Train loss: 0.961, Validation loss: 0.968\n",
      "Best Model is triggered\n",
      "Epoch: 1, Train loss: 0.942, Validation loss: 0.967\n",
      "Best Model is triggered\n",
      "Epoch: 2, Train loss: 0.99, Validation loss: 0.962\n",
      "Best Model is triggered\n",
      "Epoch: 3, Train loss: 0.995, Validation loss: 0.964\n",
      "Epoch: 4, Train loss: 0.976, Validation loss: 0.961\n",
      "Best Model is triggered\n",
      "Epoch: 5, Train loss: 0.926, Validation loss: 0.964\n",
      "Epoch: 6, Train loss: 0.969, Validation loss: 0.958\n",
      "Best Model is triggered\n",
      "Epoch: 7, Train loss: 0.985, Validation loss: 0.957\n",
      "Best Model is triggered\n",
      "Epoch: 8, Train loss: 0.973, Validation loss: 0.957\n",
      "Best Model is triggered\n",
      "Epoch: 9, Train loss: 0.948, Validation loss: 0.956\n",
      "Best Model is triggered\n",
      "Epoch: 10, Train loss: 0.949, Validation loss: 0.953\n",
      "Best Model is triggered\n",
      "Epoch: 11, Train loss: 0.977, Validation loss: 0.956\n",
      "Epoch: 12, Train loss: 0.945, Validation loss: 0.949\n",
      "Best Model is triggered\n",
      "Epoch: 13, Train loss: 0.983, Validation loss: 0.953\n",
      "Epoch: 14, Train loss: 0.944, Validation loss: 0.95\n",
      "Epoch: 15, Train loss: 0.963, Validation loss: 0.951\n",
      "Epoch: 16, Train loss: 0.982, Validation loss: 0.953\n",
      "Epoch: 17, Train loss: 0.961, Validation loss: 0.953\n",
      "Epoch: 18, Train loss: 0.959, Validation loss: 0.95\n",
      "Epoch: 19, Train loss: 0.963, Validation loss: 0.948\n",
      "Best Model is triggered\n",
      "Epoch: 20, Train loss: 1.015, Validation loss: 0.947\n",
      "Best Model is triggered\n",
      "Epoch: 21, Train loss: 0.934, Validation loss: 0.948\n",
      "Epoch: 22, Train loss: 0.995, Validation loss: 0.949\n",
      "Epoch: 23, Train loss: 0.926, Validation loss: 0.947\n",
      "Best Model is triggered\n",
      "Epoch: 24, Train loss: 0.97, Validation loss: 0.947\n",
      "Epoch: 25, Train loss: 1.002, Validation loss: 0.95\n",
      "Epoch: 26, Train loss: 0.967, Validation loss: 0.947\n",
      "Epoch: 27, Train loss: 0.971, Validation loss: 0.949\n",
      "Epoch: 28, Train loss: 0.944, Validation loss: 0.943\n",
      "Best Model is triggered\n",
      "Epoch: 29, Train loss: 0.988, Validation loss: 0.947\n",
      "Epoch: 30, Train loss: 0.943, Validation loss: 0.946\n",
      "Epoch: 31, Train loss: 0.924, Validation loss: 0.947\n",
      "Epoch: 32, Train loss: 0.936, Validation loss: 0.948\n",
      "Epoch: 33, Train loss: 0.952, Validation loss: 0.948\n",
      "Epoch: 34, Train loss: 0.994, Validation loss: 0.946\n",
      "Epoch: 35, Train loss: 0.992, Validation loss: 0.942\n",
      "Best Model is triggered\n",
      "Epoch: 36, Train loss: 0.969, Validation loss: 0.946\n",
      "Epoch: 37, Train loss: 0.972, Validation loss: 0.943\n",
      "Epoch: 38, Train loss: 0.964, Validation loss: 0.945\n",
      "Epoch: 39, Train loss: 0.957, Validation loss: 0.94\n",
      "Best Model is triggered\n",
      "Epoch: 40, Train loss: 0.955, Validation loss: 0.943\n",
      "Epoch: 41, Train loss: 0.972, Validation loss: 0.946\n",
      "Epoch: 42, Train loss: 0.962, Validation loss: 0.944\n",
      "Epoch: 43, Train loss: 0.956, Validation loss: 0.944\n",
      "Epoch: 44, Train loss: 0.911, Validation loss: 0.942\n",
      "Epoch: 45, Train loss: 0.985, Validation loss: 0.939\n",
      "Best Model is triggered\n",
      "Epoch: 46, Train loss: 0.973, Validation loss: 0.941\n",
      "Epoch: 47, Train loss: 0.949, Validation loss: 0.944\n",
      "Epoch: 48, Train loss: 0.954, Validation loss: 0.944\n",
      "Epoch: 49, Train loss: 0.954, Validation loss: 0.943\n",
      "Epoch: 50, Train loss: 0.981, Validation loss: 0.944\n",
      "Epoch: 51, Train loss: 0.979, Validation loss: 0.943\n",
      "Epoch: 52, Train loss: 0.956, Validation loss: 0.944\n",
      "Epoch: 53, Train loss: 0.969, Validation loss: 0.941\n",
      "Epoch: 54, Train loss: 0.961, Validation loss: 0.941\n",
      "Epoch: 55, Train loss: 0.918, Validation loss: 0.943\n",
      "Epoch: 56, Train loss: 0.953, Validation loss: 0.941\n",
      "Epoch: 57, Train loss: 0.934, Validation loss: 0.943\n",
      "Epoch: 58, Train loss: 0.965, Validation loss: 0.944\n",
      "Epoch: 59, Train loss: 0.942, Validation loss: 0.942\n",
      "Epoch: 60, Train loss: 0.981, Validation loss: 0.943\n",
      "Epoch: 61, Train loss: 1.009, Validation loss: 0.942\n",
      "Epoch: 62, Train loss: 0.955, Validation loss: 0.937\n",
      "Best Model is triggered\n",
      "Epoch: 63, Train loss: 0.988, Validation loss: 0.941\n",
      "Epoch: 64, Train loss: 0.948, Validation loss: 0.942\n",
      "Epoch: 65, Train loss: 0.944, Validation loss: 0.943\n",
      "Epoch: 66, Train loss: 0.955, Validation loss: 0.942\n",
      "Epoch: 67, Train loss: 0.997, Validation loss: 0.944\n",
      "Epoch: 68, Train loss: 0.971, Validation loss: 0.938\n",
      "Epoch: 69, Train loss: 0.979, Validation loss: 0.938\n",
      "Epoch: 70, Train loss: 0.955, Validation loss: 0.943\n",
      "Epoch: 71, Train loss: 0.954, Validation loss: 0.939\n",
      "Epoch: 72, Train loss: 0.957, Validation loss: 0.943\n",
      "Epoch: 73, Train loss: 0.95, Validation loss: 0.941\n",
      "Epoch: 74, Train loss: 0.958, Validation loss: 0.939\n",
      "Epoch: 75, Train loss: 0.922, Validation loss: 0.939\n",
      "Epoch: 76, Train loss: 0.973, Validation loss: 0.942\n",
      "Epoch: 77, Train loss: 0.976, Validation loss: 0.943\n",
      "Epoch: 78, Train loss: 0.967, Validation loss: 0.94\n",
      "Epoch: 79, Train loss: 0.958, Validation loss: 0.943\n",
      "Epoch: 80, Train loss: 0.949, Validation loss: 0.943\n",
      "Epoch: 81, Train loss: 0.946, Validation loss: 0.94\n",
      "Epoch: 82, Train loss: 0.967, Validation loss: 0.94\n",
      "Early Stopping\n"
     ]
    }
   ],
   "metadata": {}
  },
  {
   "cell_type": "code",
   "execution_count": 11,
   "source": [
    "# save model \n",
    "#torch.save(exp_model.autoencoder.state_dict(), f'../../ClassificationModels/models/{dataset}/TSInsightAutoencoder_new_params')"
   ],
   "outputs": [],
   "metadata": {}
  },
  {
   "cell_type": "code",
   "execution_count": 12,
   "source": [
    "exp=exp_model.explain(item)"
   ],
   "outputs": [],
   "metadata": {}
  },
  {
   "cell_type": "code",
   "execution_count": 13,
   "source": [
    "np.count_nonzero(item.flatten()-exp.flatten())"
   ],
   "outputs": [
    {
     "output_type": "execute_result",
     "data": {
      "text/plain": [
       "96"
      ]
     },
     "metadata": {},
     "execution_count": 13
    }
   ],
   "metadata": {}
  },
  {
   "cell_type": "code",
   "execution_count": 14,
   "source": [
    "exp.shape"
   ],
   "outputs": [
    {
     "output_type": "execute_result",
     "data": {
      "text/plain": [
       "(1, 1, 96)"
      ]
     },
     "metadata": {},
     "execution_count": 14
    }
   ],
   "metadata": {}
  },
  {
   "cell_type": "code",
   "execution_count": 15,
   "source": [
    "item.shape"
   ],
   "outputs": [
    {
     "output_type": "execute_result",
     "data": {
      "text/plain": [
       "(1, 1, 96)"
      ]
     },
     "metadata": {},
     "execution_count": 15
    }
   ],
   "metadata": {}
  },
  {
   "cell_type": "code",
   "execution_count": 16,
   "source": [
    "#TODO scale og plot\n",
    "exp_model.plot(item, exp,all_in_one=False)"
   ],
   "outputs": [
    {
     "output_type": "display_data",
     "data": {
      "image/png": "[encoded data removed]",
      "text/plain": [
       "<Figure size 432x288 with 4 Axes>"
      ]
     },
     "metadata": {
      "needs_background": "light"
     }
    }
   ],
   "metadata": {}
  },
  {
   "cell_type": "code",
   "execution_count": 17,
   "source": [
    "exp_model.plot(item, exp)"
   ],
   "outputs": [
    {
     "output_type": "display_data",
     "data": {
      "image/png": "[encoded data removed]",
      "text/plain": [
       "<Figure size 432x288 with 2 Axes>"
      ]
     },
     "metadata": {
      "needs_background": "light"
     }
    }
   ],
   "metadata": {}
  },
  {
   "cell_type": "code",
   "execution_count": 18,
   "source": [
    "np.min(exp)"
   ],
   "outputs": [
    {
     "output_type": "execute_result",
     "data": {
      "text/plain": [
       "-0.24205697"
      ]
     },
     "metadata": {},
     "execution_count": 18
    }
   ],
   "metadata": {}
  },
  {
   "cell_type": "code",
   "execution_count": 19,
   "source": [
    "np.max(exp)"
   ],
   "outputs": [
    {
     "output_type": "execute_result",
     "data": {
      "text/plain": [
       "0.6151295"
      ]
     },
     "metadata": {},
     "execution_count": 19
    }
   ],
   "metadata": {}
  },
  {
   "cell_type": "code",
   "execution_count": 20,
   "source": [
    "sns.lineplot(x=range(0,len(exp.reshape(-1))), y=exp.flatten(), color='black')"
   ],
   "outputs": [
    {
     "output_type": "execute_result",
     "data": {
      "text/plain": [
       "<AxesSubplot:>"
      ]
     },
     "metadata": {},
     "execution_count": 20
    },
    {
     "output_type": "display_data",
     "data": {
      "image/png": "[encoded data removed]",
      "text/plain": [
       "<Figure size 432x288 with 1 Axes>"
      ]
     },
     "metadata": {
      "needs_background": "light"
     }
    }
   ],
   "metadata": {}
  },
  {
   "cell_type": "code",
   "execution_count": 21,
   "source": [
    "#print(exp)"
   ],
   "outputs": [],
   "metadata": {}
  },
  {
   "cell_type": "code",
   "execution_count": 22,
   "source": [
    "#print(exp.shape)"
   ],
   "outputs": [],
   "metadata": {}
  },
  {
   "cell_type": "markdown",
   "source": [
    "# Plot Item "
   ],
   "metadata": {}
  },
  {
   "cell_type": "code",
   "execution_count": 23,
   "source": [
    "\n",
    "#exp_model.plot(item,np.argmax(y_target,axis=1)[0],exp,label)"
   ],
   "outputs": [],
   "metadata": {}
  },
  {
   "cell_type": "code",
   "execution_count": 24,
   "source": [
    "#xp_model.plot_in_one(item,np.argmax(y_target,axis=1)[0],exp,label)"
   ],
   "outputs": [],
   "metadata": {}
  }
 ],
 "metadata": {
  "orig_nbformat": 4,
  "language_info": {
   "name": "python",
   "version": "3.7.5",
   "mimetype": "text/x-python",
   "codemirror_mode": {
    "name": "ipython",
    "version": 3
   },
   "pygments_lexer": "ipython3",
   "nbconvert_exporter": "python",
   "file_extension": ".py"
  },
  "kernelspec": {
   "name": "python3",
   "display_name": "Python 3.7.5 64-bit ('TSInterpret-NXJYnQDU': virtualenv)"
  },
  "interpreter": {
   "hash": "16db99a3fba429d86cb96b96f3cee6d3141a37b91b1d019974802969710b6701"
  }
 },
 "nbformat": 4,
 "nbformat_minor": 2
}